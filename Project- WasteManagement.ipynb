{
 "cells": [
  {
   "cell_type": "markdown",
   "id": "dc03ffbc",
   "metadata": {},
   "source": [
    "# Importing libraries"
   ]
  },
  {
   "cell_type": "code",
   "execution_count": 418,
   "id": "4a1f6d61",
   "metadata": {},
   "outputs": [],
   "source": [
    "import pandas as pd\n",
    "import numpy as np\n",
    "import matplotlib.pyplot as plt\n",
    "import seaborn as sns\n",
    "from sklearn.linear_model import LogisticRegression\n",
    "from sklearn.preprocessing import StandardScaler\n",
    "from sklearn.model_selection import train_test_split\n",
    "from sklearn.metrics import precision_score\n",
    "from sklearn.metrics import recall_score\n",
    "from sklearn.metrics import f1_score\n",
    "from sklearn.metrics import confusion_matrix\n",
    "from sklearn.utils import resample\n",
    "from imblearn.over_sampling import SMOTE\n",
    "from IPython.display import Image"
   ]
  },
  {
   "cell_type": "markdown",
   "id": "8f18d3c3",
   "metadata": {},
   "source": [
    "# Importing different tables"
   ]
  },
  {
   "cell_type": "code",
   "execution_count": 419,
   "id": "99ff559e",
   "metadata": {},
   "outputs": [],
   "source": [
    "df_waste = pd.read_excel(\"Modelo_Residuos_2019.xlsx\", engine=\"openpyxl\", sheet_name = \"Hoja1\")\n",
    "df_homes = pd.read_excel(\"Tamaño de los hogares 2019.xlsx\", engine=\"openpyxl\", sheet_name = \"Tamaño por distritos\")\n",
    "df_income = pd.read_excel(\"Distribución de renta de los hogares 17-18.xlsx\", engine=\"openpyxl\", sheet_name = \"Distrito\")\n",
    "#df_vul = pd.read_excel(\"Ranking_Vulnerabilidad_AHP_2019.xlsx\", engine=\"openpyxl\", sheet_name = \"aux.2\")"
   ]
  },
  {
   "cell_type": "code",
   "execution_count": 420,
   "id": "ea3b9027",
   "metadata": {},
   "outputs": [
    {
     "data": {
      "text/html": [
       "<div>\n",
       "<style scoped>\n",
       "    .dataframe tbody tr th:only-of-type {\n",
       "        vertical-align: middle;\n",
       "    }\n",
       "\n",
       "    .dataframe tbody tr th {\n",
       "        vertical-align: top;\n",
       "    }\n",
       "\n",
       "    .dataframe thead th {\n",
       "        text-align: right;\n",
       "    }\n",
       "</style>\n",
       "<table border=\"1\" class=\"dataframe\">\n",
       "  <thead>\n",
       "    <tr style=\"text-align: right;\">\n",
       "      <th></th>\n",
       "      <th>LOTE</th>\n",
       "      <th>DISTRITO</th>\n",
       "      <th>FRACCIÓN</th>\n",
       "      <th>ENERO '19(TN)</th>\n",
       "      <th>FEBRERO '19(TN)</th>\n",
       "      <th>MARZO '19(TN)</th>\n",
       "      <th>ABRIL '19(TN)</th>\n",
       "      <th>MAYO '19(TN)</th>\n",
       "      <th>JUNIO'19(TN)</th>\n",
       "      <th>JULIO'19(TN)</th>\n",
       "      <th>AGOSTO'19(TN)</th>\n",
       "      <th>SEPTIEMBRE'19(TN)</th>\n",
       "      <th>OCTUBRE'19(TN)</th>\n",
       "      <th>NOVIEMBRE'19(TN)</th>\n",
       "      <th>DICIEMBRE'19(TN)</th>\n",
       "    </tr>\n",
       "  </thead>\n",
       "  <tbody>\n",
       "    <tr>\n",
       "      <th>0</th>\n",
       "      <td>1</td>\n",
       "      <td>01. CENTRO</td>\n",
       "      <td>RESTO</td>\n",
       "      <td>6099.24</td>\n",
       "      <td>5643.16</td>\n",
       "      <td>6358.28</td>\n",
       "      <td>5923.36</td>\n",
       "      <td>6361.46</td>\n",
       "      <td>6244.32</td>\n",
       "      <td>5935.02</td>\n",
       "      <td>4864.96</td>\n",
       "      <td>5831.70</td>\n",
       "      <td>6375.5</td>\n",
       "      <td>6133.30</td>\n",
       "      <td>6593.32</td>\n",
       "    </tr>\n",
       "    <tr>\n",
       "      <th>1</th>\n",
       "      <td>1</td>\n",
       "      <td>01. CENTRO</td>\n",
       "      <td>ENVASES</td>\n",
       "      <td>201.66</td>\n",
       "      <td>191.92</td>\n",
       "      <td>219.30</td>\n",
       "      <td>205.92</td>\n",
       "      <td>225.40</td>\n",
       "      <td>222.86</td>\n",
       "      <td>205.70</td>\n",
       "      <td>177.78</td>\n",
       "      <td>225.74</td>\n",
       "      <td>238.3</td>\n",
       "      <td>229.12</td>\n",
       "      <td>238.16</td>\n",
       "    </tr>\n",
       "  </tbody>\n",
       "</table>\n",
       "</div>"
      ],
      "text/plain": [
       "   LOTE     DISTRITO FRACCIÓN  ENERO '19(TN)  FEBRERO '19(TN)  MARZO '19(TN)  \\\n",
       "0      1  01. CENTRO    RESTO        6099.24          5643.16        6358.28   \n",
       "1      1  01. CENTRO  ENVASES         201.66           191.92         219.30   \n",
       "\n",
       "   ABRIL '19(TN)  MAYO '19(TN)  JUNIO'19(TN)  JULIO'19(TN)  AGOSTO'19(TN)  \\\n",
       "0        5923.36       6361.46       6244.32       5935.02        4864.96   \n",
       "1         205.92        225.40        222.86        205.70         177.78   \n",
       "\n",
       "   SEPTIEMBRE'19(TN)  OCTUBRE'19(TN)  NOVIEMBRE'19(TN)  DICIEMBRE'19(TN)  \n",
       "0            5831.70          6375.5           6133.30           6593.32  \n",
       "1             225.74           238.3            229.12            238.16  "
      ]
     },
     "metadata": {},
     "output_type": "display_data"
    },
    {
     "data": {
      "text/html": [
       "<div>\n",
       "<style scoped>\n",
       "    .dataframe tbody tr th:only-of-type {\n",
       "        vertical-align: middle;\n",
       "    }\n",
       "\n",
       "    .dataframe tbody tr th {\n",
       "        vertical-align: top;\n",
       "    }\n",
       "\n",
       "    .dataframe thead th {\n",
       "        text-align: right;\n",
       "    }\n",
       "</style>\n",
       "<table border=\"1\" class=\"dataframe\">\n",
       "  <thead>\n",
       "    <tr style=\"text-align: right;\">\n",
       "      <th></th>\n",
       "      <th>Id Distrito</th>\n",
       "      <th>Distrito / Sección</th>\n",
       "      <th>Habitantes</th>\n",
       "      <th>Total Hogares</th>\n",
       "      <th>Tamaño medio del hogar</th>\n",
       "    </tr>\n",
       "  </thead>\n",
       "  <tbody>\n",
       "    <tr>\n",
       "      <th>0</th>\n",
       "      <td>1</td>\n",
       "      <td>01. Centro</td>\n",
       "      <td>134881</td>\n",
       "      <td>67296</td>\n",
       "      <td>2.004294</td>\n",
       "    </tr>\n",
       "    <tr>\n",
       "      <th>1</th>\n",
       "      <td>2</td>\n",
       "      <td>02. Arganzuela</td>\n",
       "      <td>153830</td>\n",
       "      <td>65005</td>\n",
       "      <td>2.366433</td>\n",
       "    </tr>\n",
       "  </tbody>\n",
       "</table>\n",
       "</div>"
      ],
      "text/plain": [
       "   Id Distrito Distrito / Sección  Habitantes  Total Hogares  \\\n",
       "0            1         01. Centro      134881          67296   \n",
       "1            2     02. Arganzuela      153830          65005   \n",
       "\n",
       "   Tamaño medio del hogar  \n",
       "0                2.004294  \n",
       "1                2.366433  "
      ]
     },
     "metadata": {},
     "output_type": "display_data"
    },
    {
     "data": {
      "text/html": [
       "<div>\n",
       "<style scoped>\n",
       "    .dataframe tbody tr th:only-of-type {\n",
       "        vertical-align: middle;\n",
       "    }\n",
       "\n",
       "    .dataframe tbody tr th {\n",
       "        vertical-align: top;\n",
       "    }\n",
       "\n",
       "    .dataframe thead th {\n",
       "        text-align: right;\n",
       "    }\n",
       "</style>\n",
       "<table border=\"1\" class=\"dataframe\">\n",
       "  <thead>\n",
       "    <tr style=\"text-align: right;\">\n",
       "      <th></th>\n",
       "      <th>Distrito</th>\n",
       "      <th>Renta media por persona</th>\n",
       "      <th>Renta media por hogar</th>\n",
       "    </tr>\n",
       "  </thead>\n",
       "  <tbody>\n",
       "    <tr>\n",
       "      <th>0</th>\n",
       "      <td>01. Centro</td>\n",
       "      <td>17932</td>\n",
       "      <td>36072.0</td>\n",
       "    </tr>\n",
       "    <tr>\n",
       "      <th>1</th>\n",
       "      <td>02. Arganzuela</td>\n",
       "      <td>18473</td>\n",
       "      <td>43789.0</td>\n",
       "    </tr>\n",
       "  </tbody>\n",
       "</table>\n",
       "</div>"
      ],
      "text/plain": [
       "          Distrito  Renta media por persona   Renta media por hogar\n",
       "0       01. Centro                     17932                36072.0\n",
       "1   02. Arganzuela                     18473                43789.0"
      ]
     },
     "metadata": {},
     "output_type": "display_data"
    }
   ],
   "source": [
    "display(df_waste.head(2))\n",
    "display(df_homes.head(2))\n",
    "display(df_income.head(2))"
   ]
  },
  {
   "cell_type": "markdown",
   "id": "ffdc6bf9",
   "metadata": {},
   "source": [
    "# Cleaning waste table"
   ]
  },
  {
   "cell_type": "code",
   "execution_count": 421,
   "id": "ff409cea",
   "metadata": {},
   "outputs": [
    {
     "data": {
      "text/plain": [
       "LOTE                   int64\n",
       "DISTRITO              object\n",
       "FRACCIÓN              object\n",
       "ENERO '19(TN)        float64\n",
       "FEBRERO '19(TN)      float64\n",
       "MARZO '19(TN)        float64\n",
       "ABRIL '19(TN)        float64\n",
       "MAYO '19(TN)         float64\n",
       "JUNIO'19(TN)         float64\n",
       "JULIO'19(TN)         float64\n",
       "AGOSTO'19(TN)        float64\n",
       "SEPTIEMBRE'19(TN)    float64\n",
       "OCTUBRE'19(TN)       float64\n",
       "NOVIEMBRE'19(TN)     float64\n",
       "DICIEMBRE'19(TN)     float64\n",
       "dtype: object"
      ]
     },
     "execution_count": 421,
     "metadata": {},
     "output_type": "execute_result"
    }
   ],
   "source": [
    "df_waste.dtypes"
   ]
  },
  {
   "cell_type": "code",
   "execution_count": 422,
   "id": "af9c5018",
   "metadata": {},
   "outputs": [],
   "source": [
    "df_waste['years waste'] = df_waste.iloc[:,3:15].sum(axis=1)"
   ]
  },
  {
   "cell_type": "code",
   "execution_count": 423,
   "id": "e57cf647",
   "metadata": {},
   "outputs": [
    {
     "data": {
      "text/plain": [
       "Index(['LOTE ', 'DISTRITO', 'FRACCIÓN', 'ENERO '19(TN)', 'FEBRERO '19(TN)',\n",
       "       'MARZO '19(TN)', 'ABRIL '19(TN)', 'MAYO '19(TN)', 'JUNIO'19(TN)',\n",
       "       'JULIO'19(TN)', 'AGOSTO'19(TN)', 'SEPTIEMBRE'19(TN)', 'OCTUBRE'19(TN)',\n",
       "       'NOVIEMBRE'19(TN)', 'DICIEMBRE'19(TN)', 'years waste'],\n",
       "      dtype='object')"
      ]
     },
     "execution_count": 423,
     "metadata": {},
     "output_type": "execute_result"
    }
   ],
   "source": [
    "df_waste.columns"
   ]
  },
  {
   "cell_type": "code",
   "execution_count": 424,
   "id": "6c63cb37",
   "metadata": {},
   "outputs": [
    {
     "data": {
      "text/html": [
       "<div>\n",
       "<style scoped>\n",
       "    .dataframe tbody tr th:only-of-type {\n",
       "        vertical-align: middle;\n",
       "    }\n",
       "\n",
       "    .dataframe tbody tr th {\n",
       "        vertical-align: top;\n",
       "    }\n",
       "\n",
       "    .dataframe thead th {\n",
       "        text-align: right;\n",
       "    }\n",
       "</style>\n",
       "<table border=\"1\" class=\"dataframe\">\n",
       "  <thead>\n",
       "    <tr style=\"text-align: right;\">\n",
       "      <th></th>\n",
       "      <th>district</th>\n",
       "      <th>waste_type</th>\n",
       "      <th>yearly_waste</th>\n",
       "    </tr>\n",
       "  </thead>\n",
       "  <tbody>\n",
       "    <tr>\n",
       "      <th>0</th>\n",
       "      <td>01. CENTRO</td>\n",
       "      <td>RESTO</td>\n",
       "      <td>72363.62</td>\n",
       "    </tr>\n",
       "    <tr>\n",
       "      <th>1</th>\n",
       "      <td>01. CENTRO</td>\n",
       "      <td>ENVASES</td>\n",
       "      <td>2581.86</td>\n",
       "    </tr>\n",
       "    <tr>\n",
       "      <th>2</th>\n",
       "      <td>01. CENTRO</td>\n",
       "      <td>VIDRIO</td>\n",
       "      <td>8155.40</td>\n",
       "    </tr>\n",
       "    <tr>\n",
       "      <th>3</th>\n",
       "      <td>01. CENTRO</td>\n",
       "      <td>CLINICOS</td>\n",
       "      <td>1904.58</td>\n",
       "    </tr>\n",
       "    <tr>\n",
       "      <th>4</th>\n",
       "      <td>01. CENTRO</td>\n",
       "      <td>ORGÁNICA</td>\n",
       "      <td>0.00</td>\n",
       "    </tr>\n",
       "  </tbody>\n",
       "</table>\n",
       "</div>"
      ],
      "text/plain": [
       "     district waste_type  yearly_waste\n",
       "0  01. CENTRO      RESTO      72363.62\n",
       "1  01. CENTRO    ENVASES       2581.86\n",
       "2  01. CENTRO     VIDRIO       8155.40\n",
       "3  01. CENTRO   CLINICOS       1904.58\n",
       "4  01. CENTRO   ORGÁNICA          0.00"
      ]
     },
     "execution_count": 424,
     "metadata": {},
     "output_type": "execute_result"
    }
   ],
   "source": [
    "df_waste = df_waste[['DISTRITO', 'FRACCIÓN', 'years waste']]\n",
    "df_waste = df_waste.rename(columns={'DISTRITO':'district', 'FRACCIÓN':'waste_type','years waste':'yearly_waste'})\n",
    "df_waste.head()"
   ]
  },
  {
   "cell_type": "code",
   "execution_count": 425,
   "id": "58272fcd",
   "metadata": {},
   "outputs": [],
   "source": [
    "df_waste[['district_id', 'district_name']] = df_waste['district'].str.split('.', expand=True)"
   ]
  },
  {
   "cell_type": "code",
   "execution_count": 426,
   "id": "ba91788d",
   "metadata": {},
   "outputs": [],
   "source": [
    "df_waste = df_waste.drop(['district'], axis= 1)"
   ]
  },
  {
   "cell_type": "code",
   "execution_count": 427,
   "id": "86417efa",
   "metadata": {},
   "outputs": [],
   "source": [
    "df_waste = df_waste[['district_id', 'district_name', 'waste_type', 'yearly_waste']]"
   ]
  },
  {
   "cell_type": "code",
   "execution_count": 428,
   "id": "cfd02640",
   "metadata": {},
   "outputs": [],
   "source": [
    "def items_lower(df):\n",
    "    df_cat = df.select_dtypes(['object'])\n",
    "    for i in df_cat.columns:\n",
    "        df[i] = list(map(lambda x: x.lower(), df[i]))\n",
    "    return df"
   ]
  },
  {
   "cell_type": "code",
   "execution_count": 429,
   "id": "9b41da93",
   "metadata": {},
   "outputs": [],
   "source": [
    "df_waste = items_lower(df_waste)"
   ]
  },
  {
   "cell_type": "code",
   "execution_count": 430,
   "id": "95ae891e",
   "metadata": {},
   "outputs": [],
   "source": [
    "def accent_replace(df):\n",
    "    df_cat = df.select_dtypes(['object'])\n",
    "    for i in df_cat.columns:\n",
    "        df[i]=df[i].str.replace('á', 'a')\n",
    "        df[i]=df[i].str.replace('é', 'e')\n",
    "        df[i]=df[i].str.replace('í', 'i')\n",
    "        df[i]=df[i].str.replace('ó', 'o')\n",
    "        df[i]=df[i].str.replace('ú', 'u')\n",
    "\n",
    "\n",
    "    return df"
   ]
  },
  {
   "cell_type": "code",
   "execution_count": 431,
   "id": "f0d57c0d",
   "metadata": {},
   "outputs": [],
   "source": [
    "df_waste = accent_replace(df_waste)"
   ]
  },
  {
   "cell_type": "code",
   "execution_count": 432,
   "id": "f599e492",
   "metadata": {},
   "outputs": [
    {
     "data": {
      "text/html": [
       "<div>\n",
       "<style scoped>\n",
       "    .dataframe tbody tr th:only-of-type {\n",
       "        vertical-align: middle;\n",
       "    }\n",
       "\n",
       "    .dataframe tbody tr th {\n",
       "        vertical-align: top;\n",
       "    }\n",
       "\n",
       "    .dataframe thead th {\n",
       "        text-align: right;\n",
       "    }\n",
       "</style>\n",
       "<table border=\"1\" class=\"dataframe\">\n",
       "  <thead>\n",
       "    <tr style=\"text-align: right;\">\n",
       "      <th></th>\n",
       "      <th>district_id</th>\n",
       "      <th>district_name</th>\n",
       "      <th>waste_type</th>\n",
       "      <th>yearly_waste</th>\n",
       "    </tr>\n",
       "  </thead>\n",
       "  <tbody>\n",
       "    <tr>\n",
       "      <th>0</th>\n",
       "      <td>01</td>\n",
       "      <td>centro</td>\n",
       "      <td>resto</td>\n",
       "      <td>72363.62</td>\n",
       "    </tr>\n",
       "    <tr>\n",
       "      <th>1</th>\n",
       "      <td>01</td>\n",
       "      <td>centro</td>\n",
       "      <td>envases</td>\n",
       "      <td>2581.86</td>\n",
       "    </tr>\n",
       "    <tr>\n",
       "      <th>2</th>\n",
       "      <td>01</td>\n",
       "      <td>centro</td>\n",
       "      <td>vidrio</td>\n",
       "      <td>8155.40</td>\n",
       "    </tr>\n",
       "    <tr>\n",
       "      <th>3</th>\n",
       "      <td>01</td>\n",
       "      <td>centro</td>\n",
       "      <td>clinicos</td>\n",
       "      <td>1904.58</td>\n",
       "    </tr>\n",
       "    <tr>\n",
       "      <th>4</th>\n",
       "      <td>01</td>\n",
       "      <td>centro</td>\n",
       "      <td>organica</td>\n",
       "      <td>0.00</td>\n",
       "    </tr>\n",
       "    <tr>\n",
       "      <th>...</th>\n",
       "      <td>...</td>\n",
       "      <td>...</td>\n",
       "      <td>...</td>\n",
       "      <td>...</td>\n",
       "    </tr>\n",
       "    <tr>\n",
       "      <th>101</th>\n",
       "      <td>21</td>\n",
       "      <td>barajas</td>\n",
       "      <td>resto</td>\n",
       "      <td>17023.36</td>\n",
       "    </tr>\n",
       "    <tr>\n",
       "      <th>102</th>\n",
       "      <td>21</td>\n",
       "      <td>barajas</td>\n",
       "      <td>envases</td>\n",
       "      <td>1932.16</td>\n",
       "    </tr>\n",
       "    <tr>\n",
       "      <th>103</th>\n",
       "      <td>21</td>\n",
       "      <td>barajas</td>\n",
       "      <td>vidrio</td>\n",
       "      <td>1571.46</td>\n",
       "    </tr>\n",
       "    <tr>\n",
       "      <th>104</th>\n",
       "      <td>21</td>\n",
       "      <td>barajas</td>\n",
       "      <td>puntos limpios</td>\n",
       "      <td>299.72</td>\n",
       "    </tr>\n",
       "    <tr>\n",
       "      <th>105</th>\n",
       "      <td>21</td>\n",
       "      <td>barajas</td>\n",
       "      <td>organica</td>\n",
       "      <td>191.30</td>\n",
       "    </tr>\n",
       "  </tbody>\n",
       "</table>\n",
       "<p>106 rows × 4 columns</p>\n",
       "</div>"
      ],
      "text/plain": [
       "    district_id district_name      waste_type  yearly_waste\n",
       "0            01        centro           resto      72363.62\n",
       "1            01        centro         envases       2581.86\n",
       "2            01        centro          vidrio       8155.40\n",
       "3            01        centro        clinicos       1904.58\n",
       "4            01        centro        organica          0.00\n",
       "..          ...           ...             ...           ...\n",
       "101          21       barajas           resto      17023.36\n",
       "102          21       barajas         envases       1932.16\n",
       "103          21       barajas          vidrio       1571.46\n",
       "104          21       barajas  puntos limpios        299.72\n",
       "105          21       barajas        organica        191.30\n",
       "\n",
       "[106 rows x 4 columns]"
      ]
     },
     "execution_count": 432,
     "metadata": {},
     "output_type": "execute_result"
    }
   ],
   "source": [
    "df_waste"
   ]
  },
  {
   "cell_type": "markdown",
   "id": "62b30194",
   "metadata": {},
   "source": [
    "# Cleaning household size table"
   ]
  },
  {
   "cell_type": "code",
   "execution_count": 433,
   "id": "4f0114bc",
   "metadata": {},
   "outputs": [
    {
     "data": {
      "text/plain": [
       "Id Distrito                 int64\n",
       "Distrito / Sección         object\n",
       "Habitantes                  int64\n",
       "Total Hogares               int64\n",
       "Tamaño medio del hogar    float64\n",
       "dtype: object"
      ]
     },
     "execution_count": 433,
     "metadata": {},
     "output_type": "execute_result"
    }
   ],
   "source": [
    "df_homes.dtypes"
   ]
  },
  {
   "cell_type": "code",
   "execution_count": 434,
   "id": "ab265270",
   "metadata": {},
   "outputs": [
    {
     "data": {
      "text/plain": [
       "Index(['Id Distrito', 'Distrito / Sección', 'Habitantes', 'Total Hogares',\n",
       "       'Tamaño medio del hogar'],\n",
       "      dtype='object')"
      ]
     },
     "execution_count": 434,
     "metadata": {},
     "output_type": "execute_result"
    }
   ],
   "source": [
    "df_homes.columns"
   ]
  },
  {
   "cell_type": "code",
   "execution_count": 435,
   "id": "88b07100",
   "metadata": {},
   "outputs": [],
   "source": [
    "df_homes[['district_id', 'district_name']] = df_homes['Distrito / Sección'].str.split('.', expand=True)"
   ]
  },
  {
   "cell_type": "code",
   "execution_count": 436,
   "id": "e0ef3a0c",
   "metadata": {},
   "outputs": [],
   "source": [
    "df_homes = df_homes.drop(['Id Distrito', 'Distrito / Sección'], axis=1)"
   ]
  },
  {
   "cell_type": "code",
   "execution_count": 437,
   "id": "0d121460",
   "metadata": {},
   "outputs": [],
   "source": [
    "df_homes = df_homes.rename(columns={'Habitantes':'residents', 'Total Hogares':'households','Tamaño medio del hogar':'avg_household_size'})\n",
    "df_homes = df_homes[['district_id', 'district_name', 'residents', 'households', 'avg_household_size']]"
   ]
  },
  {
   "cell_type": "code",
   "execution_count": 438,
   "id": "a0ea17c6",
   "metadata": {},
   "outputs": [],
   "source": [
    "df_homes['avg_household_size']= round(df_homes['avg_household_size'],2)"
   ]
  },
  {
   "cell_type": "code",
   "execution_count": 439,
   "id": "c2735e9f",
   "metadata": {},
   "outputs": [],
   "source": [
    "df_homes = items_lower(df_homes)\n",
    "df_homes = accent_replace(df_homes)"
   ]
  },
  {
   "cell_type": "code",
   "execution_count": 440,
   "id": "9d20b4b9",
   "metadata": {},
   "outputs": [
    {
     "data": {
      "text/html": [
       "<div>\n",
       "<style scoped>\n",
       "    .dataframe tbody tr th:only-of-type {\n",
       "        vertical-align: middle;\n",
       "    }\n",
       "\n",
       "    .dataframe tbody tr th {\n",
       "        vertical-align: top;\n",
       "    }\n",
       "\n",
       "    .dataframe thead th {\n",
       "        text-align: right;\n",
       "    }\n",
       "</style>\n",
       "<table border=\"1\" class=\"dataframe\">\n",
       "  <thead>\n",
       "    <tr style=\"text-align: right;\">\n",
       "      <th></th>\n",
       "      <th>district_id</th>\n",
       "      <th>district_name</th>\n",
       "      <th>residents</th>\n",
       "      <th>households</th>\n",
       "      <th>avg_household_size</th>\n",
       "    </tr>\n",
       "  </thead>\n",
       "  <tbody>\n",
       "    <tr>\n",
       "      <th>0</th>\n",
       "      <td>01</td>\n",
       "      <td>centro</td>\n",
       "      <td>134881</td>\n",
       "      <td>67296</td>\n",
       "      <td>2.00</td>\n",
       "    </tr>\n",
       "    <tr>\n",
       "      <th>1</th>\n",
       "      <td>02</td>\n",
       "      <td>arganzuela</td>\n",
       "      <td>153830</td>\n",
       "      <td>65005</td>\n",
       "      <td>2.37</td>\n",
       "    </tr>\n",
       "    <tr>\n",
       "      <th>2</th>\n",
       "      <td>03</td>\n",
       "      <td>retiro</td>\n",
       "      <td>119379</td>\n",
       "      <td>48673</td>\n",
       "      <td>2.45</td>\n",
       "    </tr>\n",
       "  </tbody>\n",
       "</table>\n",
       "</div>"
      ],
      "text/plain": [
       "  district_id district_name  residents  households  avg_household_size\n",
       "0          01        centro     134881       67296                2.00\n",
       "1          02    arganzuela     153830       65005                2.37\n",
       "2          03        retiro     119379       48673                2.45"
      ]
     },
     "execution_count": 440,
     "metadata": {},
     "output_type": "execute_result"
    }
   ],
   "source": [
    "df_homes.head(3)"
   ]
  },
  {
   "cell_type": "markdown",
   "id": "4c2b7e39",
   "metadata": {},
   "source": [
    "# Cleaning Household income distribution table"
   ]
  },
  {
   "cell_type": "code",
   "execution_count": 441,
   "id": "a50b7edf",
   "metadata": {},
   "outputs": [],
   "source": [
    "df_income[['district_id', 'district_name']] = df_income['Distrito'].str.split('.', expand=True)"
   ]
  },
  {
   "cell_type": "code",
   "execution_count": 442,
   "id": "9b01b370",
   "metadata": {},
   "outputs": [],
   "source": [
    "df_income = df_income.drop(['Distrito'], axis=1)"
   ]
  },
  {
   "cell_type": "code",
   "execution_count": 443,
   "id": "3ef12fc9",
   "metadata": {},
   "outputs": [
    {
     "data": {
      "text/plain": [
       "Index(['Renta media por persona ', 'Renta media por hogar', 'district_id',\n",
       "       'district_name'],\n",
       "      dtype='object')"
      ]
     },
     "execution_count": 443,
     "metadata": {},
     "output_type": "execute_result"
    }
   ],
   "source": [
    "df_income.columns"
   ]
  },
  {
   "cell_type": "code",
   "execution_count": 444,
   "id": "ed582084",
   "metadata": {},
   "outputs": [],
   "source": [
    "df_income = df_income.rename(columns={'Renta media por persona ':'avg_income_person', 'Renta media por hogar':'Avg_household_income'})\n",
    "df_income = df_income[['district_id', 'district_name', 'avg_income_person', 'Avg_household_income']]"
   ]
  },
  {
   "cell_type": "code",
   "execution_count": 445,
   "id": "73db452a",
   "metadata": {},
   "outputs": [],
   "source": [
    "df_income = items_lower(df_income)\n",
    "df_income = accent_replace(df_income)"
   ]
  },
  {
   "cell_type": "code",
   "execution_count": 446,
   "id": "8fee4f95",
   "metadata": {},
   "outputs": [
    {
     "data": {
      "text/html": [
       "<div>\n",
       "<style scoped>\n",
       "    .dataframe tbody tr th:only-of-type {\n",
       "        vertical-align: middle;\n",
       "    }\n",
       "\n",
       "    .dataframe tbody tr th {\n",
       "        vertical-align: top;\n",
       "    }\n",
       "\n",
       "    .dataframe thead th {\n",
       "        text-align: right;\n",
       "    }\n",
       "</style>\n",
       "<table border=\"1\" class=\"dataframe\">\n",
       "  <thead>\n",
       "    <tr style=\"text-align: right;\">\n",
       "      <th></th>\n",
       "      <th>district_id</th>\n",
       "      <th>district_name</th>\n",
       "      <th>avg_income_person</th>\n",
       "      <th>Avg_household_income</th>\n",
       "    </tr>\n",
       "  </thead>\n",
       "  <tbody>\n",
       "    <tr>\n",
       "      <th>0</th>\n",
       "      <td>01</td>\n",
       "      <td>centro</td>\n",
       "      <td>17932</td>\n",
       "      <td>36072.0</td>\n",
       "    </tr>\n",
       "    <tr>\n",
       "      <th>1</th>\n",
       "      <td>02</td>\n",
       "      <td>arganzuela</td>\n",
       "      <td>18473</td>\n",
       "      <td>43789.0</td>\n",
       "    </tr>\n",
       "    <tr>\n",
       "      <th>2</th>\n",
       "      <td>03</td>\n",
       "      <td>retiro</td>\n",
       "      <td>22706</td>\n",
       "      <td>55775.0</td>\n",
       "    </tr>\n",
       "  </tbody>\n",
       "</table>\n",
       "</div>"
      ],
      "text/plain": [
       "  district_id district_name  avg_income_person  Avg_household_income\n",
       "0          01        centro              17932               36072.0\n",
       "1          02    arganzuela              18473               43789.0\n",
       "2          03        retiro              22706               55775.0"
      ]
     },
     "execution_count": 446,
     "metadata": {},
     "output_type": "execute_result"
    }
   ],
   "source": [
    "df_income.head(3)"
   ]
  },
  {
   "cell_type": "markdown",
   "id": "aef30f79",
   "metadata": {},
   "source": [
    "# Saving files to link tables in SQL"
   ]
  },
  {
   "cell_type": "code",
   "execution_count": 447,
   "id": "70ab7351",
   "metadata": {},
   "outputs": [],
   "source": [
    "#df_homes.to_csv('Household_size.csv', index = False)\n",
    "#df_income.to_csv('Household_income.csv', index = False)\n",
    "#df_waste.to_csv('waste_per_district.csv', index = False)"
   ]
  },
  {
   "cell_type": "markdown",
   "id": "b7f9f103",
   "metadata": {},
   "source": [
    "# Importing table from SQL"
   ]
  },
  {
   "cell_type": "code",
   "execution_count": 448,
   "id": "ceb30f7b",
   "metadata": {},
   "outputs": [
    {
     "name": "stdout",
     "output_type": "stream",
     "text": [
      "········\n"
     ]
    }
   ],
   "source": [
    "import pymysql\n",
    "from sqlalchemy import create_engine\n",
    "import pandas as pd\n",
    "import getpass  # To get the password without showing the input\n",
    "password = getpass.getpass()"
   ]
  },
  {
   "cell_type": "code",
   "execution_count": 449,
   "id": "726a0421",
   "metadata": {},
   "outputs": [
    {
     "data": {
      "text/html": [
       "<div>\n",
       "<style scoped>\n",
       "    .dataframe tbody tr th:only-of-type {\n",
       "        vertical-align: middle;\n",
       "    }\n",
       "\n",
       "    .dataframe tbody tr th {\n",
       "        vertical-align: top;\n",
       "    }\n",
       "\n",
       "    .dataframe thead th {\n",
       "        text-align: right;\n",
       "    }\n",
       "</style>\n",
       "<table border=\"1\" class=\"dataframe\">\n",
       "  <thead>\n",
       "    <tr style=\"text-align: right;\">\n",
       "      <th></th>\n",
       "      <th>district_id</th>\n",
       "      <th>district_name</th>\n",
       "      <th>waste_type</th>\n",
       "      <th>yearly_waste</th>\n",
       "      <th>avg_income_person</th>\n",
       "      <th>Avg_household_income</th>\n",
       "      <th>residents</th>\n",
       "      <th>households</th>\n",
       "      <th>avg_household_size</th>\n",
       "    </tr>\n",
       "  </thead>\n",
       "  <tbody>\n",
       "    <tr>\n",
       "      <th>0</th>\n",
       "      <td>1</td>\n",
       "      <td>centro</td>\n",
       "      <td>resto</td>\n",
       "      <td>72364</td>\n",
       "      <td>17932</td>\n",
       "      <td>36072.0</td>\n",
       "      <td>134881</td>\n",
       "      <td>67296</td>\n",
       "      <td>2.0</td>\n",
       "    </tr>\n",
       "    <tr>\n",
       "      <th>1</th>\n",
       "      <td>1</td>\n",
       "      <td>centro</td>\n",
       "      <td>envases</td>\n",
       "      <td>2582</td>\n",
       "      <td>17932</td>\n",
       "      <td>36072.0</td>\n",
       "      <td>134881</td>\n",
       "      <td>67296</td>\n",
       "      <td>2.0</td>\n",
       "    </tr>\n",
       "    <tr>\n",
       "      <th>2</th>\n",
       "      <td>1</td>\n",
       "      <td>centro</td>\n",
       "      <td>vidrio</td>\n",
       "      <td>8155</td>\n",
       "      <td>17932</td>\n",
       "      <td>36072.0</td>\n",
       "      <td>134881</td>\n",
       "      <td>67296</td>\n",
       "      <td>2.0</td>\n",
       "    </tr>\n",
       "    <tr>\n",
       "      <th>3</th>\n",
       "      <td>1</td>\n",
       "      <td>centro</td>\n",
       "      <td>clinicos</td>\n",
       "      <td>1905</td>\n",
       "      <td>17932</td>\n",
       "      <td>36072.0</td>\n",
       "      <td>134881</td>\n",
       "      <td>67296</td>\n",
       "      <td>2.0</td>\n",
       "    </tr>\n",
       "    <tr>\n",
       "      <th>4</th>\n",
       "      <td>1</td>\n",
       "      <td>centro</td>\n",
       "      <td>organica</td>\n",
       "      <td>0</td>\n",
       "      <td>17932</td>\n",
       "      <td>36072.0</td>\n",
       "      <td>134881</td>\n",
       "      <td>67296</td>\n",
       "      <td>2.0</td>\n",
       "    </tr>\n",
       "  </tbody>\n",
       "</table>\n",
       "</div>"
      ],
      "text/plain": [
       "   district_id district_name waste_type  yearly_waste  avg_income_person  \\\n",
       "0            1        centro      resto         72364              17932   \n",
       "1            1        centro    envases          2582              17932   \n",
       "2            1        centro     vidrio          8155              17932   \n",
       "3            1        centro   clinicos          1905              17932   \n",
       "4            1        centro   organica             0              17932   \n",
       "\n",
       "   Avg_household_income  residents  households  avg_household_size  \n",
       "0               36072.0     134881       67296                 2.0  \n",
       "1               36072.0     134881       67296                 2.0  \n",
       "2               36072.0     134881       67296                 2.0  \n",
       "3               36072.0     134881       67296                 2.0  \n",
       "4               36072.0     134881       67296                 2.0  "
      ]
     },
     "execution_count": 449,
     "metadata": {},
     "output_type": "execute_result"
    }
   ],
   "source": [
    "connection_string = 'mysql+pymysql://root:' + password + '@localhost/project1'\n",
    "engine = create_engine(connection_string)\n",
    "query = '''SELECT w.district_id, w.district_name, w.waste_type, w.yearly_waste, i.avg_income_person, i.Avg_household_income, s.residents, s.households, s.avg_household_size \n",
    "FROM waste_per_district w\n",
    "JOIN household_income i\n",
    "USING (district_id)\n",
    "JOIN household_size s\n",
    "USING (district_id);'''\n",
    "\n",
    "df = pd.read_sql_query(query, engine)\n",
    "df.head()"
   ]
  },
  {
   "cell_type": "code",
   "execution_count": 450,
   "id": "c308b7e4",
   "metadata": {},
   "outputs": [
    {
     "data": {
      "text/plain": [
       "(106, 9)"
      ]
     },
     "execution_count": 450,
     "metadata": {},
     "output_type": "execute_result"
    }
   ],
   "source": [
    "df.shape"
   ]
  },
  {
   "cell_type": "code",
   "execution_count": 451,
   "id": "9da9ff05",
   "metadata": {},
   "outputs": [],
   "source": [
    "df1 = df.groupby(['district_name']).agg({'district_id':np.mean, 'yearly_waste': sum, 'avg_income_person':np.mean, 'Avg_household_income':np.mean,'residents':np.mean, 'households':np.mean, 'avg_household_size':np.mean}).reset_index()\n",
    "df1['district_id'] = list(map(lambda x: int(x), df1['district_id']))"
   ]
  },
  {
   "cell_type": "code",
   "execution_count": 452,
   "id": "846dffb2",
   "metadata": {},
   "outputs": [
    {
     "data": {
      "text/html": [
       "<div>\n",
       "<style scoped>\n",
       "    .dataframe tbody tr th:only-of-type {\n",
       "        vertical-align: middle;\n",
       "    }\n",
       "\n",
       "    .dataframe tbody tr th {\n",
       "        vertical-align: top;\n",
       "    }\n",
       "\n",
       "    .dataframe thead th {\n",
       "        text-align: right;\n",
       "    }\n",
       "</style>\n",
       "<table border=\"1\" class=\"dataframe\">\n",
       "  <thead>\n",
       "    <tr style=\"text-align: right;\">\n",
       "      <th></th>\n",
       "      <th>district_name</th>\n",
       "      <th>district_id</th>\n",
       "      <th>yearly_waste</th>\n",
       "      <th>avg_income_person</th>\n",
       "      <th>Avg_household_income</th>\n",
       "      <th>residents</th>\n",
       "      <th>households</th>\n",
       "      <th>avg_household_size</th>\n",
       "    </tr>\n",
       "  </thead>\n",
       "  <tbody>\n",
       "    <tr>\n",
       "      <th>0</th>\n",
       "      <td>arganzuela</td>\n",
       "      <td>2</td>\n",
       "      <td>42970</td>\n",
       "      <td>18473.0</td>\n",
       "      <td>43789.0</td>\n",
       "      <td>153830.0</td>\n",
       "      <td>65005.0</td>\n",
       "      <td>2.37</td>\n",
       "    </tr>\n",
       "    <tr>\n",
       "      <th>1</th>\n",
       "      <td>barajas</td>\n",
       "      <td>21</td>\n",
       "      <td>21017</td>\n",
       "      <td>18514.0</td>\n",
       "      <td>49615.0</td>\n",
       "      <td>48972.0</td>\n",
       "      <td>18269.0</td>\n",
       "      <td>2.68</td>\n",
       "    </tr>\n",
       "    <tr>\n",
       "      <th>2</th>\n",
       "      <td>carabanchel</td>\n",
       "      <td>11</td>\n",
       "      <td>75869</td>\n",
       "      <td>11327.0</td>\n",
       "      <td>29842.0</td>\n",
       "      <td>253040.0</td>\n",
       "      <td>95680.0</td>\n",
       "      <td>2.64</td>\n",
       "    </tr>\n",
       "    <tr>\n",
       "      <th>3</th>\n",
       "      <td>centro</td>\n",
       "      <td>1</td>\n",
       "      <td>85006</td>\n",
       "      <td>17932.0</td>\n",
       "      <td>36072.0</td>\n",
       "      <td>134881.0</td>\n",
       "      <td>67296.0</td>\n",
       "      <td>2.00</td>\n",
       "    </tr>\n",
       "    <tr>\n",
       "      <th>4</th>\n",
       "      <td>chamartin</td>\n",
       "      <td>5</td>\n",
       "      <td>48791</td>\n",
       "      <td>28190.0</td>\n",
       "      <td>70735.0</td>\n",
       "      <td>145865.0</td>\n",
       "      <td>58240.0</td>\n",
       "      <td>2.50</td>\n",
       "    </tr>\n",
       "    <tr>\n",
       "      <th>5</th>\n",
       "      <td>chamberi</td>\n",
       "      <td>7</td>\n",
       "      <td>46282</td>\n",
       "      <td>24112.0</td>\n",
       "      <td>54327.0</td>\n",
       "      <td>139448.0</td>\n",
       "      <td>62013.0</td>\n",
       "      <td>2.25</td>\n",
       "    </tr>\n",
       "    <tr>\n",
       "      <th>6</th>\n",
       "      <td>ciudad lineal</td>\n",
       "      <td>15</td>\n",
       "      <td>62649</td>\n",
       "      <td>15815.0</td>\n",
       "      <td>39425.0</td>\n",
       "      <td>216270.0</td>\n",
       "      <td>86658.0</td>\n",
       "      <td>2.50</td>\n",
       "    </tr>\n",
       "    <tr>\n",
       "      <th>7</th>\n",
       "      <td>fuencarral</td>\n",
       "      <td>8</td>\n",
       "      <td>78917</td>\n",
       "      <td>19551.0</td>\n",
       "      <td>52858.0</td>\n",
       "      <td>246021.0</td>\n",
       "      <td>90495.0</td>\n",
       "      <td>2.72</td>\n",
       "    </tr>\n",
       "    <tr>\n",
       "      <th>8</th>\n",
       "      <td>hortaleza</td>\n",
       "      <td>16</td>\n",
       "      <td>58331</td>\n",
       "      <td>19759.0</td>\n",
       "      <td>52944.0</td>\n",
       "      <td>188267.0</td>\n",
       "      <td>70099.0</td>\n",
       "      <td>2.69</td>\n",
       "    </tr>\n",
       "    <tr>\n",
       "      <th>9</th>\n",
       "      <td>latina</td>\n",
       "      <td>10</td>\n",
       "      <td>67966</td>\n",
       "      <td>12749.0</td>\n",
       "      <td>31872.0</td>\n",
       "      <td>238154.0</td>\n",
       "      <td>95217.0</td>\n",
       "      <td>2.50</td>\n",
       "    </tr>\n",
       "    <tr>\n",
       "      <th>10</th>\n",
       "      <td>moncloa - aravaca</td>\n",
       "      <td>9</td>\n",
       "      <td>56453</td>\n",
       "      <td>24686.0</td>\n",
       "      <td>64066.0</td>\n",
       "      <td>119423.0</td>\n",
       "      <td>45650.0</td>\n",
       "      <td>2.62</td>\n",
       "    </tr>\n",
       "    <tr>\n",
       "      <th>11</th>\n",
       "      <td>moratalaz</td>\n",
       "      <td>14</td>\n",
       "      <td>24221</td>\n",
       "      <td>14637.0</td>\n",
       "      <td>36755.0</td>\n",
       "      <td>94609.0</td>\n",
       "      <td>37547.0</td>\n",
       "      <td>2.52</td>\n",
       "    </tr>\n",
       "    <tr>\n",
       "      <th>12</th>\n",
       "      <td>puente de vallecas</td>\n",
       "      <td>13</td>\n",
       "      <td>71059</td>\n",
       "      <td>10045.0</td>\n",
       "      <td>26652.0</td>\n",
       "      <td>234770.0</td>\n",
       "      <td>88465.0</td>\n",
       "      <td>2.65</td>\n",
       "    </tr>\n",
       "    <tr>\n",
       "      <th>13</th>\n",
       "      <td>retiro</td>\n",
       "      <td>3</td>\n",
       "      <td>36880</td>\n",
       "      <td>22706.0</td>\n",
       "      <td>55775.0</td>\n",
       "      <td>119379.0</td>\n",
       "      <td>48673.0</td>\n",
       "      <td>2.45</td>\n",
       "    </tr>\n",
       "    <tr>\n",
       "      <th>14</th>\n",
       "      <td>salamanca</td>\n",
       "      <td>4</td>\n",
       "      <td>53533</td>\n",
       "      <td>26255.0</td>\n",
       "      <td>61466.0</td>\n",
       "      <td>146148.0</td>\n",
       "      <td>62951.0</td>\n",
       "      <td>2.32</td>\n",
       "    </tr>\n",
       "    <tr>\n",
       "      <th>15</th>\n",
       "      <td>san blas-canillejas</td>\n",
       "      <td>20</td>\n",
       "      <td>59967</td>\n",
       "      <td>14100.0</td>\n",
       "      <td>37112.0</td>\n",
       "      <td>158166.0</td>\n",
       "      <td>59896.0</td>\n",
       "      <td>2.64</td>\n",
       "    </tr>\n",
       "    <tr>\n",
       "      <th>16</th>\n",
       "      <td>tetuan</td>\n",
       "      <td>6</td>\n",
       "      <td>52020</td>\n",
       "      <td>15742.0</td>\n",
       "      <td>37557.0</td>\n",
       "      <td>157937.0</td>\n",
       "      <td>66428.0</td>\n",
       "      <td>2.38</td>\n",
       "    </tr>\n",
       "    <tr>\n",
       "      <th>17</th>\n",
       "      <td>usera</td>\n",
       "      <td>12</td>\n",
       "      <td>39828</td>\n",
       "      <td>9860.0</td>\n",
       "      <td>27674.0</td>\n",
       "      <td>139501.0</td>\n",
       "      <td>49780.0</td>\n",
       "      <td>2.80</td>\n",
       "    </tr>\n",
       "    <tr>\n",
       "      <th>18</th>\n",
       "      <td>vicalvaro</td>\n",
       "      <td>19</td>\n",
       "      <td>31398</td>\n",
       "      <td>12353.0</td>\n",
       "      <td>33870.0</td>\n",
       "      <td>72126.0</td>\n",
       "      <td>26232.0</td>\n",
       "      <td>2.75</td>\n",
       "    </tr>\n",
       "    <tr>\n",
       "      <th>19</th>\n",
       "      <td>villa de vallecas</td>\n",
       "      <td>18</td>\n",
       "      <td>60143</td>\n",
       "      <td>12545.0</td>\n",
       "      <td>32765.0</td>\n",
       "      <td>110436.0</td>\n",
       "      <td>42237.0</td>\n",
       "      <td>2.61</td>\n",
       "    </tr>\n",
       "    <tr>\n",
       "      <th>20</th>\n",
       "      <td>villaverde</td>\n",
       "      <td>17</td>\n",
       "      <td>46112</td>\n",
       "      <td>10164.0</td>\n",
       "      <td>28407.0</td>\n",
       "      <td>148883.0</td>\n",
       "      <td>53333.0</td>\n",
       "      <td>2.79</td>\n",
       "    </tr>\n",
       "  </tbody>\n",
       "</table>\n",
       "</div>"
      ],
      "text/plain": [
       "           district_name  district_id  yearly_waste  avg_income_person  \\\n",
       "0             arganzuela            2         42970            18473.0   \n",
       "1                barajas           21         21017            18514.0   \n",
       "2            carabanchel           11         75869            11327.0   \n",
       "3                 centro            1         85006            17932.0   \n",
       "4              chamartin            5         48791            28190.0   \n",
       "5               chamberi            7         46282            24112.0   \n",
       "6          ciudad lineal           15         62649            15815.0   \n",
       "7             fuencarral            8         78917            19551.0   \n",
       "8              hortaleza           16         58331            19759.0   \n",
       "9                 latina           10         67966            12749.0   \n",
       "10     moncloa - aravaca            9         56453            24686.0   \n",
       "11             moratalaz           14         24221            14637.0   \n",
       "12    puente de vallecas           13         71059            10045.0   \n",
       "13                retiro            3         36880            22706.0   \n",
       "14             salamanca            4         53533            26255.0   \n",
       "15   san blas-canillejas           20         59967            14100.0   \n",
       "16                tetuan            6         52020            15742.0   \n",
       "17                 usera           12         39828             9860.0   \n",
       "18             vicalvaro           19         31398            12353.0   \n",
       "19     villa de vallecas           18         60143            12545.0   \n",
       "20            villaverde           17         46112            10164.0   \n",
       "\n",
       "    Avg_household_income  residents  households  avg_household_size  \n",
       "0                43789.0   153830.0     65005.0                2.37  \n",
       "1                49615.0    48972.0     18269.0                2.68  \n",
       "2                29842.0   253040.0     95680.0                2.64  \n",
       "3                36072.0   134881.0     67296.0                2.00  \n",
       "4                70735.0   145865.0     58240.0                2.50  \n",
       "5                54327.0   139448.0     62013.0                2.25  \n",
       "6                39425.0   216270.0     86658.0                2.50  \n",
       "7                52858.0   246021.0     90495.0                2.72  \n",
       "8                52944.0   188267.0     70099.0                2.69  \n",
       "9                31872.0   238154.0     95217.0                2.50  \n",
       "10               64066.0   119423.0     45650.0                2.62  \n",
       "11               36755.0    94609.0     37547.0                2.52  \n",
       "12               26652.0   234770.0     88465.0                2.65  \n",
       "13               55775.0   119379.0     48673.0                2.45  \n",
       "14               61466.0   146148.0     62951.0                2.32  \n",
       "15               37112.0   158166.0     59896.0                2.64  \n",
       "16               37557.0   157937.0     66428.0                2.38  \n",
       "17               27674.0   139501.0     49780.0                2.80  \n",
       "18               33870.0    72126.0     26232.0                2.75  \n",
       "19               32765.0   110436.0     42237.0                2.61  \n",
       "20               28407.0   148883.0     53333.0                2.79  "
      ]
     },
     "execution_count": 452,
     "metadata": {},
     "output_type": "execute_result"
    }
   ],
   "source": [
    "df1"
   ]
  },
  {
   "cell_type": "code",
   "execution_count": 453,
   "id": "f12842d0",
   "metadata": {},
   "outputs": [
    {
     "data": {
      "text/html": [
       "<div>\n",
       "<style scoped>\n",
       "    .dataframe tbody tr th:only-of-type {\n",
       "        vertical-align: middle;\n",
       "    }\n",
       "\n",
       "    .dataframe tbody tr th {\n",
       "        vertical-align: top;\n",
       "    }\n",
       "\n",
       "    .dataframe thead th {\n",
       "        text-align: right;\n",
       "    }\n",
       "</style>\n",
       "<table border=\"1\" class=\"dataframe\">\n",
       "  <thead>\n",
       "    <tr style=\"text-align: right;\">\n",
       "      <th></th>\n",
       "      <th>district_id</th>\n",
       "      <th>yearly_waste</th>\n",
       "      <th>avg_income_person</th>\n",
       "      <th>Avg_household_income</th>\n",
       "      <th>residents</th>\n",
       "      <th>households</th>\n",
       "      <th>avg_household_size</th>\n",
       "    </tr>\n",
       "  </thead>\n",
       "  <tbody>\n",
       "    <tr>\n",
       "      <th>district_id</th>\n",
       "      <td>1.000000</td>\n",
       "      <td>-0.264397</td>\n",
       "      <td>-0.547623</td>\n",
       "      <td>-0.407864</td>\n",
       "      <td>-0.185071</td>\n",
       "      <td>-0.332544</td>\n",
       "      <td>0.720836</td>\n",
       "    </tr>\n",
       "    <tr>\n",
       "      <th>yearly_waste</th>\n",
       "      <td>-0.264397</td>\n",
       "      <td>1.000000</td>\n",
       "      <td>-0.093272</td>\n",
       "      <td>-0.148965</td>\n",
       "      <td>0.764927</td>\n",
       "      <td>0.806240</td>\n",
       "      <td>-0.224388</td>\n",
       "    </tr>\n",
       "    <tr>\n",
       "      <th>avg_income_person</th>\n",
       "      <td>-0.547623</td>\n",
       "      <td>-0.093272</td>\n",
       "      <td>1.000000</td>\n",
       "      <td>0.972014</td>\n",
       "      <td>-0.206315</td>\n",
       "      <td>-0.116419</td>\n",
       "      <td>-0.456823</td>\n",
       "    </tr>\n",
       "    <tr>\n",
       "      <th>Avg_household_income</th>\n",
       "      <td>-0.407864</td>\n",
       "      <td>-0.148965</td>\n",
       "      <td>0.972014</td>\n",
       "      <td>1.000000</td>\n",
       "      <td>-0.202078</td>\n",
       "      <td>-0.160827</td>\n",
       "      <td>-0.240526</td>\n",
       "    </tr>\n",
       "    <tr>\n",
       "      <th>residents</th>\n",
       "      <td>-0.185071</td>\n",
       "      <td>0.764927</td>\n",
       "      <td>-0.206315</td>\n",
       "      <td>-0.202078</td>\n",
       "      <td>1.000000</td>\n",
       "      <td>0.975110</td>\n",
       "      <td>0.056193</td>\n",
       "    </tr>\n",
       "    <tr>\n",
       "      <th>households</th>\n",
       "      <td>-0.332544</td>\n",
       "      <td>0.806240</td>\n",
       "      <td>-0.116419</td>\n",
       "      <td>-0.160827</td>\n",
       "      <td>0.975110</td>\n",
       "      <td>1.000000</td>\n",
       "      <td>-0.163612</td>\n",
       "    </tr>\n",
       "    <tr>\n",
       "      <th>avg_household_size</th>\n",
       "      <td>0.720836</td>\n",
       "      <td>-0.224388</td>\n",
       "      <td>-0.456823</td>\n",
       "      <td>-0.240526</td>\n",
       "      <td>0.056193</td>\n",
       "      <td>-0.163612</td>\n",
       "      <td>1.000000</td>\n",
       "    </tr>\n",
       "  </tbody>\n",
       "</table>\n",
       "</div>"
      ],
      "text/plain": [
       "                      district_id  yearly_waste  avg_income_person  \\\n",
       "district_id              1.000000     -0.264397          -0.547623   \n",
       "yearly_waste            -0.264397      1.000000          -0.093272   \n",
       "avg_income_person       -0.547623     -0.093272           1.000000   \n",
       "Avg_household_income    -0.407864     -0.148965           0.972014   \n",
       "residents               -0.185071      0.764927          -0.206315   \n",
       "households              -0.332544      0.806240          -0.116419   \n",
       "avg_household_size       0.720836     -0.224388          -0.456823   \n",
       "\n",
       "                      Avg_household_income  residents  households  \\\n",
       "district_id                      -0.407864  -0.185071   -0.332544   \n",
       "yearly_waste                     -0.148965   0.764927    0.806240   \n",
       "avg_income_person                 0.972014  -0.206315   -0.116419   \n",
       "Avg_household_income              1.000000  -0.202078   -0.160827   \n",
       "residents                        -0.202078   1.000000    0.975110   \n",
       "households                       -0.160827   0.975110    1.000000   \n",
       "avg_household_size               -0.240526   0.056193   -0.163612   \n",
       "\n",
       "                      avg_household_size  \n",
       "district_id                     0.720836  \n",
       "yearly_waste                   -0.224388  \n",
       "avg_income_person              -0.456823  \n",
       "Avg_household_income           -0.240526  \n",
       "residents                       0.056193  \n",
       "households                     -0.163612  \n",
       "avg_household_size              1.000000  "
      ]
     },
     "execution_count": 453,
     "metadata": {},
     "output_type": "execute_result"
    }
   ],
   "source": [
    "correlations_matrix = df1.corr()\n",
    "correlations_matrix"
   ]
  },
  {
   "cell_type": "markdown",
   "id": "5819ad4f",
   "metadata": {},
   "source": [
    "Correlation Matrix--> There is a very high correlation between the number of people and the amount of waste"
   ]
  },
  {
   "cell_type": "markdown",
   "id": "1b6f51d2",
   "metadata": {},
   "source": [
    "Since yearly waste is in tons, decimals do matter, thats why I create a new column for size in households so I can do good analysis"
   ]
  },
  {
   "cell_type": "code",
   "execution_count": 454,
   "id": "d39c1ce0",
   "metadata": {},
   "outputs": [],
   "source": [
    "df1['avg_household_residents']= df1['residents']/df1['households']"
   ]
  },
  {
   "cell_type": "code",
   "execution_count": 455,
   "id": "0f7de273",
   "metadata": {},
   "outputs": [],
   "source": [
    "df1 = df1.drop(['avg_household_size'],axis=1)"
   ]
  },
  {
   "cell_type": "markdown",
   "id": "58e507c8",
   "metadata": {},
   "source": [
    "I create a column to compare how much waste do residents make in the different districts and another one to compare how much the make in each one"
   ]
  },
  {
   "cell_type": "code",
   "execution_count": 456,
   "id": "c103cf3f",
   "metadata": {},
   "outputs": [],
   "source": [
    "df1['yearly_waste_resident'] = df1['yearly_waste']/df1['residents']"
   ]
  },
  {
   "cell_type": "code",
   "execution_count": 457,
   "id": "ce15cb08",
   "metadata": {},
   "outputs": [],
   "source": [
    "df1['waste_per_home'] = df1['avg_household_residents']*df1['yearly_waste_resident']"
   ]
  },
  {
   "cell_type": "code",
   "execution_count": 458,
   "id": "46b9ea07",
   "metadata": {},
   "outputs": [],
   "source": [
    "df1 = df1.sort_values(by=['district_id'], ignore_index=True)"
   ]
  },
  {
   "cell_type": "code",
   "execution_count": 459,
   "id": "39c31cc2",
   "metadata": {},
   "outputs": [
    {
     "data": {
      "image/png": "[encoded data removed]",
      "text/plain": [
       "<Figure size 864x864 with 1 Axes>"
      ]
     },
     "metadata": {
      "needs_background": "light"
     },
     "output_type": "display_data"
    }
   ],
   "source": [
    "fig, ax = plt.subplots(figsize=(12,12))\n",
    "sns.barplot(x=\"yearly_waste_resident\", y='district_name', data=df1)\n",
    "#ax.get_legend_handles_labels()\n",
    "plt.show()"
   ]
  },
  {
   "cell_type": "markdown",
   "id": "e1d3c8d2",
   "metadata": {},
   "source": [
    "We can see that the district 'centro' is clearly the one that produces the most waste followedc by 'villa de vallecas' and 'moncloa-aravaca', the other district are much close to the mean"
   ]
  },
  {
   "cell_type": "code",
   "execution_count": 460,
   "id": "58c4a5a4",
   "metadata": {},
   "outputs": [
    {
     "data": {
      "image/png": "[encoded data removed]",
      "text/plain": [
       "<Figure size 432x288 with 1 Axes>"
      ]
     },
     "metadata": {
      "needs_background": "light"
     },
     "output_type": "display_data"
    }
   ],
   "source": [
    "import matplotlib.pyplot as plt\n",
    "%matplotlib inline\n",
    "plt.scatter(df1['avg_income_person'], df1['yearly_waste_resident'])\n",
    "plt.show()"
   ]
  },
  {
   "cell_type": "code",
   "execution_count": null,
   "id": "3cd125f4",
   "metadata": {},
   "outputs": [],
   "source": []
  },
  {
   "cell_type": "markdown",
   "id": "b634d821",
   "metadata": {},
   "source": [
    "We can see that there is not much relation with the avg income per person and the amount of waste they produce"
   ]
  },
  {
   "cell_type": "code",
   "execution_count": 461,
   "id": "c5dd97ab",
   "metadata": {},
   "outputs": [],
   "source": [
    "#df1.to_csv('graph1.csv', index = False)"
   ]
  },
  {
   "cell_type": "markdown",
   "id": "df9f289d",
   "metadata": {},
   "source": [
    "Checking LinearRegressionModel with the data I have without checking the outliers"
   ]
  },
  {
   "cell_type": "code",
   "execution_count": 462,
   "id": "1ba0b3f9",
   "metadata": {},
   "outputs": [],
   "source": [
    "fr = df1"
   ]
  },
  {
   "cell_type": "code",
   "execution_count": 463,
   "id": "9da074f9",
   "metadata": {},
   "outputs": [
    {
     "data": {
      "text/html": [
       "<div>\n",
       "<style scoped>\n",
       "    .dataframe tbody tr th:only-of-type {\n",
       "        vertical-align: middle;\n",
       "    }\n",
       "\n",
       "    .dataframe tbody tr th {\n",
       "        vertical-align: top;\n",
       "    }\n",
       "\n",
       "    .dataframe thead th {\n",
       "        text-align: right;\n",
       "    }\n",
       "</style>\n",
       "<table border=\"1\" class=\"dataframe\">\n",
       "  <thead>\n",
       "    <tr style=\"text-align: right;\">\n",
       "      <th></th>\n",
       "      <th>district_id</th>\n",
       "      <th>yearly_waste</th>\n",
       "      <th>avg_income_person</th>\n",
       "      <th>Avg_household_income</th>\n",
       "      <th>residents</th>\n",
       "      <th>households</th>\n",
       "      <th>avg_household_residents</th>\n",
       "      <th>yearly_waste_resident</th>\n",
       "      <th>waste_per_home</th>\n",
       "    </tr>\n",
       "  </thead>\n",
       "  <tbody>\n",
       "    <tr>\n",
       "      <th>district_id</th>\n",
       "      <td>1.000000</td>\n",
       "      <td>-0.264397</td>\n",
       "      <td>-0.547623</td>\n",
       "      <td>-0.407864</td>\n",
       "      <td>-0.185071</td>\n",
       "      <td>-0.332544</td>\n",
       "      <td>0.720381</td>\n",
       "      <td>0.016656</td>\n",
       "      <td>0.304187</td>\n",
       "    </tr>\n",
       "    <tr>\n",
       "      <th>yearly_waste</th>\n",
       "      <td>-0.264397</td>\n",
       "      <td>1.000000</td>\n",
       "      <td>-0.093272</td>\n",
       "      <td>-0.148965</td>\n",
       "      <td>0.764927</td>\n",
       "      <td>0.806240</td>\n",
       "      <td>-0.221699</td>\n",
       "      <td>0.226233</td>\n",
       "      <td>0.104988</td>\n",
       "    </tr>\n",
       "    <tr>\n",
       "      <th>avg_income_person</th>\n",
       "      <td>-0.547623</td>\n",
       "      <td>-0.093272</td>\n",
       "      <td>1.000000</td>\n",
       "      <td>0.972014</td>\n",
       "      <td>-0.206315</td>\n",
       "      <td>-0.116419</td>\n",
       "      <td>-0.460369</td>\n",
       "      <td>0.114725</td>\n",
       "      <td>-0.015960</td>\n",
       "    </tr>\n",
       "    <tr>\n",
       "      <th>Avg_household_income</th>\n",
       "      <td>-0.407864</td>\n",
       "      <td>-0.148965</td>\n",
       "      <td>0.972014</td>\n",
       "      <td>1.000000</td>\n",
       "      <td>-0.202078</td>\n",
       "      <td>-0.160827</td>\n",
       "      <td>-0.244621</td>\n",
       "      <td>0.050341</td>\n",
       "      <td>0.003340</td>\n",
       "    </tr>\n",
       "    <tr>\n",
       "      <th>residents</th>\n",
       "      <td>-0.185071</td>\n",
       "      <td>0.764927</td>\n",
       "      <td>-0.206315</td>\n",
       "      <td>-0.202078</td>\n",
       "      <td>1.000000</td>\n",
       "      <td>0.975110</td>\n",
       "      <td>0.056115</td>\n",
       "      <td>-0.438930</td>\n",
       "      <td>-0.472868</td>\n",
       "    </tr>\n",
       "    <tr>\n",
       "      <th>households</th>\n",
       "      <td>-0.332544</td>\n",
       "      <td>0.806240</td>\n",
       "      <td>-0.116419</td>\n",
       "      <td>-0.160827</td>\n",
       "      <td>0.975110</td>\n",
       "      <td>1.000000</td>\n",
       "      <td>-0.163751</td>\n",
       "      <td>-0.359508</td>\n",
       "      <td>-0.474198</td>\n",
       "    </tr>\n",
       "    <tr>\n",
       "      <th>avg_household_residents</th>\n",
       "      <td>0.720381</td>\n",
       "      <td>-0.221699</td>\n",
       "      <td>-0.460369</td>\n",
       "      <td>-0.244621</td>\n",
       "      <td>0.056115</td>\n",
       "      <td>-0.163751</td>\n",
       "      <td>1.000000</td>\n",
       "      <td>-0.304034</td>\n",
       "      <td>0.064695</td>\n",
       "    </tr>\n",
       "    <tr>\n",
       "      <th>yearly_waste_resident</th>\n",
       "      <td>0.016656</td>\n",
       "      <td>0.226233</td>\n",
       "      <td>0.114725</td>\n",
       "      <td>0.050341</td>\n",
       "      <td>-0.438930</td>\n",
       "      <td>-0.359508</td>\n",
       "      <td>-0.304034</td>\n",
       "      <td>1.000000</td>\n",
       "      <td>0.924520</td>\n",
       "    </tr>\n",
       "    <tr>\n",
       "      <th>waste_per_home</th>\n",
       "      <td>0.304187</td>\n",
       "      <td>0.104988</td>\n",
       "      <td>-0.015960</td>\n",
       "      <td>0.003340</td>\n",
       "      <td>-0.472868</td>\n",
       "      <td>-0.474198</td>\n",
       "      <td>0.064695</td>\n",
       "      <td>0.924520</td>\n",
       "      <td>1.000000</td>\n",
       "    </tr>\n",
       "  </tbody>\n",
       "</table>\n",
       "</div>"
      ],
      "text/plain": [
       "                         district_id  yearly_waste  avg_income_person  \\\n",
       "district_id                 1.000000     -0.264397          -0.547623   \n",
       "yearly_waste               -0.264397      1.000000          -0.093272   \n",
       "avg_income_person          -0.547623     -0.093272           1.000000   \n",
       "Avg_household_income       -0.407864     -0.148965           0.972014   \n",
       "residents                  -0.185071      0.764927          -0.206315   \n",
       "households                 -0.332544      0.806240          -0.116419   \n",
       "avg_household_residents     0.720381     -0.221699          -0.460369   \n",
       "yearly_waste_resident       0.016656      0.226233           0.114725   \n",
       "waste_per_home              0.304187      0.104988          -0.015960   \n",
       "\n",
       "                         Avg_household_income  residents  households  \\\n",
       "district_id                         -0.407864  -0.185071   -0.332544   \n",
       "yearly_waste                        -0.148965   0.764927    0.806240   \n",
       "avg_income_person                    0.972014  -0.206315   -0.116419   \n",
       "Avg_household_income                 1.000000  -0.202078   -0.160827   \n",
       "residents                           -0.202078   1.000000    0.975110   \n",
       "households                          -0.160827   0.975110    1.000000   \n",
       "avg_household_residents             -0.244621   0.056115   -0.163751   \n",
       "yearly_waste_resident                0.050341  -0.438930   -0.359508   \n",
       "waste_per_home                       0.003340  -0.472868   -0.474198   \n",
       "\n",
       "                         avg_household_residents  yearly_waste_resident  \\\n",
       "district_id                             0.720381               0.016656   \n",
       "yearly_waste                           -0.221699               0.226233   \n",
       "avg_income_person                      -0.460369               0.114725   \n",
       "Avg_household_income                   -0.244621               0.050341   \n",
       "residents                               0.056115              -0.438930   \n",
       "households                             -0.163751              -0.359508   \n",
       "avg_household_residents                 1.000000              -0.304034   \n",
       "yearly_waste_resident                  -0.304034               1.000000   \n",
       "waste_per_home                          0.064695               0.924520   \n",
       "\n",
       "                         waste_per_home  \n",
       "district_id                    0.304187  \n",
       "yearly_waste                   0.104988  \n",
       "avg_income_person             -0.015960  \n",
       "Avg_household_income           0.003340  \n",
       "residents                     -0.472868  \n",
       "households                    -0.474198  \n",
       "avg_household_residents        0.064695  \n",
       "yearly_waste_resident          0.924520  \n",
       "waste_per_home                 1.000000  "
      ]
     },
     "execution_count": 463,
     "metadata": {},
     "output_type": "execute_result"
    }
   ],
   "source": [
    "correlations_matrix = fr.corr()\n",
    "correlations_matrix"
   ]
  },
  {
   "cell_type": "code",
   "execution_count": 464,
   "id": "31d86f09",
   "metadata": {},
   "outputs": [],
   "source": [
    "fr = fr.drop(['district_name','district_id', 'Avg_household_income', 'households', 'avg_household_residents', 'yearly_waste_resident', 'waste_per_home' ], axis=1)"
   ]
  },
  {
   "cell_type": "code",
   "execution_count": 465,
   "id": "64da88ee",
   "metadata": {},
   "outputs": [],
   "source": [
    "y = fr['yearly_waste']\n",
    "X = fr.drop('yearly_waste', axis=1)\n",
    "from sklearn.model_selection import train_test_split\n",
    "X_train, X_test, y_train, y_test = train_test_split(X, y, test_size=0.5, random_state=100)"
   ]
  },
  {
   "cell_type": "code",
   "execution_count": 466,
   "id": "c850185c",
   "metadata": {},
   "outputs": [],
   "source": [
    "from sklearn.preprocessing import MinMaxScaler\n",
    "transformer = MinMaxScaler().fit(X_train) # need to keep transformer\n",
    "X_train_normalized = transformer.transform(X_train)\n",
    "X_train_norm = pd.DataFrame(X_train_normalized)\n",
    "X_train_norm.columns = X_train.columns"
   ]
  },
  {
   "cell_type": "code",
   "execution_count": 467,
   "id": "8163217f",
   "metadata": {},
   "outputs": [
    {
     "data": {
      "text/plain": [
       "LinearRegression()"
      ]
     },
     "execution_count": 467,
     "metadata": {},
     "output_type": "execute_result"
    }
   ],
   "source": [
    "from sklearn import linear_model\n",
    "lm = linear_model.LinearRegression()\n",
    "lm.fit(X_train_norm,y_train)"
   ]
  },
  {
   "cell_type": "code",
   "execution_count": 468,
   "id": "dc7f399d",
   "metadata": {},
   "outputs": [],
   "source": [
    "X_test_normalized = transformer.transform(X_test)\n",
    "X_test_norm = pd.DataFrame(X_test_normalized)\n",
    "X_test_norm.columns = X_test.columns"
   ]
  },
  {
   "cell_type": "code",
   "execution_count": 469,
   "id": "b4e6bbb2",
   "metadata": {},
   "outputs": [
    {
     "data": {
      "text/plain": [
       "0.43611647752106897"
      ]
     },
     "execution_count": 469,
     "metadata": {},
     "output_type": "execute_result"
    }
   ],
   "source": [
    "from sklearn.metrics import r2_score\n",
    "predictions = lm.predict(X_test_norm)\n",
    "r2_score(y_test, predictions)"
   ]
  },
  {
   "cell_type": "code",
   "execution_count": 470,
   "id": "eda257d4",
   "metadata": {},
   "outputs": [
    {
     "data": {
      "text/plain": [
       "18    31398\n",
       "20    21017\n",
       "11    39828\n",
       "19    59967\n",
       "13    24221\n",
       "6     46282\n",
       "0     85006\n",
       "1     42970\n",
       "9     67966\n",
       "17    60143\n",
       "12    71059\n",
       "Name: yearly_waste, dtype: int64"
      ]
     },
     "execution_count": 470,
     "metadata": {},
     "output_type": "execute_result"
    }
   ],
   "source": [
    "y_test"
   ]
  },
  {
   "cell_type": "code",
   "execution_count": 471,
   "id": "1790ed05",
   "metadata": {},
   "outputs": [
    {
     "data": {
      "text/plain": [
       "array([26946.33813027, 23581.22664919, 43590.21337133, 50389.93212694,\n",
       "       33883.62548482, 49903.08695421, 45956.4032125 , 51188.86126009,\n",
       "       70863.78574084, 37124.70517304, 68771.86223027])"
      ]
     },
     "execution_count": 471,
     "metadata": {},
     "output_type": "execute_result"
    }
   ],
   "source": [
    "predictions"
   ]
  },
  {
   "cell_type": "markdown",
   "id": "83e7ad65",
   "metadata": {},
   "source": [
    "# Checking outliers"
   ]
  },
  {
   "cell_type": "markdown",
   "id": "c8adaefd",
   "metadata": {},
   "source": [
    "# Villa de vallecas"
   ]
  },
  {
   "cell_type": "markdown",
   "id": "54070341",
   "metadata": {},
   "source": [
    "After some research I discover from El País a well know newspaper in Spain, that they where taking waste to Villa de Vallecas from other parts of the South of Madrid. I have checked the information with different newspapers.\n",
    "Here is a translated extract from the new:"
   ]
  },
  {
   "cell_type": "markdown",
   "id": "3be3166b",
   "metadata": {},
   "source": [
    "Link to the new: 'https://elpais.com/espana/madrid/2021-06-26/la-justicia-declara-ilegal-el-traslado-masivo-de-las-toneladas-de-basuras-de-madrid-a-valdemingomez.html'"
   ]
  },
  {
   "cell_type": "markdown",
   "id": "b578eafe",
   "metadata": {},
   "source": [
    "'31 municipalities of the Mancomunidad del Este agreed to take all their waste to the Villa de Vallecas landfill - Valdemingómez Technology Park - because there was no more space in the full Alcalá landfill. It was an unprecedented decision. The residents of the south of the capital began to breathe the smells. More than 30,000 extra tonnes a year, according to figures from Madrid City Council'."
   ]
  },
  {
   "cell_type": "code",
   "execution_count": 472,
   "id": "334d5ee5",
   "metadata": {},
   "outputs": [],
   "source": [
    "def villadevallecas(x):\n",
    "    if x == 60143:\n",
    "        return x-30000\n",
    "    else:\n",
    "        return x\n",
    "\n",
    "df1['yearly_waste'] = df1['yearly_waste'].apply(villadevallecas)"
   ]
  },
  {
   "cell_type": "code",
   "execution_count": 473,
   "id": "50a52f82",
   "metadata": {},
   "outputs": [],
   "source": [
    "df1['yearly_waste_resident'] = df1['yearly_waste']/df1['residents']\n",
    "df1['waste_per_home'] = df1['avg_household_residents']*df1['yearly_waste_resident']"
   ]
  },
  {
   "cell_type": "code",
   "execution_count": 474,
   "id": "131e33bf",
   "metadata": {},
   "outputs": [
    {
     "data": {
      "image/png": "[encoded data removed]",
      "text/plain": [
       "<Figure size 864x864 with 1 Axes>"
      ]
     },
     "metadata": {
      "needs_background": "light"
     },
     "output_type": "display_data"
    },
    {
     "name": "stdout",
     "output_type": "stream",
     "text": [
      "Mean value is: 0.34424975898822324\n"
     ]
    }
   ],
   "source": [
    "fig, ax = plt.subplots(figsize=(12,12))\n",
    "sns.barplot(x=\"yearly_waste_resident\", y='district_name', data=df1)\n",
    "#ax.get_legend_handles_labels()\n",
    "plt.show()\n",
    "print('Mean value is:', df1['yearly_waste_resident'].mean())"
   ]
  },
  {
   "cell_type": "markdown",
   "id": "f2d80f29",
   "metadata": {},
   "source": [
    "We can see that once we drop the surplus that villa de vallecas recibes, is much closser to the mean value."
   ]
  },
  {
   "cell_type": "markdown",
   "id": "cfc4e386",
   "metadata": {},
   "source": [
    "# Barajas"
   ]
  },
  {
   "cell_type": "markdown",
   "id": "a0e6f6dc",
   "metadata": {},
   "source": [
    "Barajas is clearly the other outlier of the graph. But in this case in more intuitive, in Barajas is located the Airport of Madrid, the one that receives more people in Spain, with 62 millions passangers in 2019 "
   ]
  },
  {
   "cell_type": "markdown",
   "id": "1212969b",
   "metadata": {},
   "source": [
    "From different sources I found that the airport of Madrid generates 10.000 tons a year of waste."
   ]
  },
  {
   "cell_type": "code",
   "execution_count": 475,
   "id": "09fc7d0f",
   "metadata": {},
   "outputs": [],
   "source": [
    "def airport(x):\n",
    "    if x == 21017:\n",
    "        return x-10000\n",
    "    else:\n",
    "        return x\n",
    "\n",
    "df1['yearly_waste'] = df1['yearly_waste'].apply(airport)"
   ]
  },
  {
   "cell_type": "code",
   "execution_count": 476,
   "id": "6cebb14d",
   "metadata": {},
   "outputs": [],
   "source": [
    "df1['yearly_waste_resident'] = df1['yearly_waste']/df1['residents']\n",
    "df1['waste_per_home'] = df1['avg_household_residents']*df1['yearly_waste_resident']"
   ]
  },
  {
   "cell_type": "code",
   "execution_count": 477,
   "id": "91462ad8",
   "metadata": {},
   "outputs": [
    {
     "data": {
      "image/png": "[encoded data removed]",
      "text/plain": [
       "<Figure size 864x864 with 1 Axes>"
      ]
     },
     "metadata": {
      "needs_background": "light"
     },
     "output_type": "display_data"
    },
    {
     "name": "stdout",
     "output_type": "stream",
     "text": [
      "Mean value is: 0.334526029587944\n"
     ]
    }
   ],
   "source": [
    "fig, ax = plt.subplots(figsize=(12,12))\n",
    "sns.barplot(x=\"yearly_waste_resident\", y='district_name', data=df1)\n",
    "#ax.get_legend_handles_labels()\n",
    "plt.show()\n",
    "print('Mean value is:', df1['yearly_waste_resident'].mean())"
   ]
  },
  {
   "cell_type": "code",
   "execution_count": 478,
   "id": "2bd3046b",
   "metadata": {},
   "outputs": [],
   "source": [
    "df1.to_csv('CleanedWaste_round2.csv', index = False)"
   ]
  },
  {
   "cell_type": "code",
   "execution_count": 479,
   "id": "07d8b21d",
   "metadata": {},
   "outputs": [
    {
     "data": {
      "text/html": [
       "<div>\n",
       "<style scoped>\n",
       "    .dataframe tbody tr th:only-of-type {\n",
       "        vertical-align: middle;\n",
       "    }\n",
       "\n",
       "    .dataframe tbody tr th {\n",
       "        vertical-align: top;\n",
       "    }\n",
       "\n",
       "    .dataframe thead th {\n",
       "        text-align: right;\n",
       "    }\n",
       "</style>\n",
       "<table border=\"1\" class=\"dataframe\">\n",
       "  <thead>\n",
       "    <tr style=\"text-align: right;\">\n",
       "      <th></th>\n",
       "      <th>district_id</th>\n",
       "      <th>yearly_waste</th>\n",
       "      <th>avg_income_person</th>\n",
       "      <th>Avg_household_income</th>\n",
       "      <th>residents</th>\n",
       "      <th>households</th>\n",
       "      <th>avg_household_residents</th>\n",
       "      <th>yearly_waste_resident</th>\n",
       "      <th>waste_per_home</th>\n",
       "    </tr>\n",
       "  </thead>\n",
       "  <tbody>\n",
       "    <tr>\n",
       "      <th>district_id</th>\n",
       "      <td>1.000000</td>\n",
       "      <td>-0.374295</td>\n",
       "      <td>-0.547623</td>\n",
       "      <td>-0.407864</td>\n",
       "      <td>-0.185071</td>\n",
       "      <td>-0.332544</td>\n",
       "      <td>0.720381</td>\n",
       "      <td>-0.341968</td>\n",
       "      <td>-0.092682</td>\n",
       "    </tr>\n",
       "    <tr>\n",
       "      <th>yearly_waste</th>\n",
       "      <td>-0.374295</td>\n",
       "      <td>1.000000</td>\n",
       "      <td>-0.026999</td>\n",
       "      <td>-0.087488</td>\n",
       "      <td>0.813706</td>\n",
       "      <td>0.861238</td>\n",
       "      <td>-0.250388</td>\n",
       "      <td>0.454385</td>\n",
       "      <td>0.386975</td>\n",
       "    </tr>\n",
       "    <tr>\n",
       "      <th>avg_income_person</th>\n",
       "      <td>-0.547623</td>\n",
       "      <td>-0.026999</td>\n",
       "      <td>1.000000</td>\n",
       "      <td>0.972014</td>\n",
       "      <td>-0.206315</td>\n",
       "      <td>-0.116419</td>\n",
       "      <td>-0.460369</td>\n",
       "      <td>0.221014</td>\n",
       "      <td>0.100815</td>\n",
       "    </tr>\n",
       "    <tr>\n",
       "      <th>Avg_household_income</th>\n",
       "      <td>-0.407864</td>\n",
       "      <td>-0.087488</td>\n",
       "      <td>0.972014</td>\n",
       "      <td>1.000000</td>\n",
       "      <td>-0.202078</td>\n",
       "      <td>-0.160827</td>\n",
       "      <td>-0.244621</td>\n",
       "      <td>0.116668</td>\n",
       "      <td>0.079619</td>\n",
       "    </tr>\n",
       "    <tr>\n",
       "      <th>residents</th>\n",
       "      <td>-0.185071</td>\n",
       "      <td>0.813706</td>\n",
       "      <td>-0.206315</td>\n",
       "      <td>-0.202078</td>\n",
       "      <td>1.000000</td>\n",
       "      <td>0.975110</td>\n",
       "      <td>0.056115</td>\n",
       "      <td>-0.132700</td>\n",
       "      <td>-0.129006</td>\n",
       "    </tr>\n",
       "    <tr>\n",
       "      <th>households</th>\n",
       "      <td>-0.332544</td>\n",
       "      <td>0.861238</td>\n",
       "      <td>-0.116419</td>\n",
       "      <td>-0.160827</td>\n",
       "      <td>0.975110</td>\n",
       "      <td>1.000000</td>\n",
       "      <td>-0.163751</td>\n",
       "      <td>-0.021201</td>\n",
       "      <td>-0.098343</td>\n",
       "    </tr>\n",
       "    <tr>\n",
       "      <th>avg_household_residents</th>\n",
       "      <td>0.720381</td>\n",
       "      <td>-0.250388</td>\n",
       "      <td>-0.460369</td>\n",
       "      <td>-0.244621</td>\n",
       "      <td>0.056115</td>\n",
       "      <td>-0.163751</td>\n",
       "      <td>1.000000</td>\n",
       "      <td>-0.465842</td>\n",
       "      <td>-0.096223</td>\n",
       "    </tr>\n",
       "    <tr>\n",
       "      <th>yearly_waste_resident</th>\n",
       "      <td>-0.341968</td>\n",
       "      <td>0.454385</td>\n",
       "      <td>0.221014</td>\n",
       "      <td>0.116668</td>\n",
       "      <td>-0.132700</td>\n",
       "      <td>-0.021201</td>\n",
       "      <td>-0.465842</td>\n",
       "      <td>1.000000</td>\n",
       "      <td>0.917851</td>\n",
       "    </tr>\n",
       "    <tr>\n",
       "      <th>waste_per_home</th>\n",
       "      <td>-0.092682</td>\n",
       "      <td>0.386975</td>\n",
       "      <td>0.100815</td>\n",
       "      <td>0.079619</td>\n",
       "      <td>-0.129006</td>\n",
       "      <td>-0.098343</td>\n",
       "      <td>-0.096223</td>\n",
       "      <td>0.917851</td>\n",
       "      <td>1.000000</td>\n",
       "    </tr>\n",
       "  </tbody>\n",
       "</table>\n",
       "</div>"
      ],
      "text/plain": [
       "                         district_id  yearly_waste  avg_income_person  \\\n",
       "district_id                 1.000000     -0.374295          -0.547623   \n",
       "yearly_waste               -0.374295      1.000000          -0.026999   \n",
       "avg_income_person          -0.547623     -0.026999           1.000000   \n",
       "Avg_household_income       -0.407864     -0.087488           0.972014   \n",
       "residents                  -0.185071      0.813706          -0.206315   \n",
       "households                 -0.332544      0.861238          -0.116419   \n",
       "avg_household_residents     0.720381     -0.250388          -0.460369   \n",
       "yearly_waste_resident      -0.341968      0.454385           0.221014   \n",
       "waste_per_home             -0.092682      0.386975           0.100815   \n",
       "\n",
       "                         Avg_household_income  residents  households  \\\n",
       "district_id                         -0.407864  -0.185071   -0.332544   \n",
       "yearly_waste                        -0.087488   0.813706    0.861238   \n",
       "avg_income_person                    0.972014  -0.206315   -0.116419   \n",
       "Avg_household_income                 1.000000  -0.202078   -0.160827   \n",
       "residents                           -0.202078   1.000000    0.975110   \n",
       "households                          -0.160827   0.975110    1.000000   \n",
       "avg_household_residents             -0.244621   0.056115   -0.163751   \n",
       "yearly_waste_resident                0.116668  -0.132700   -0.021201   \n",
       "waste_per_home                       0.079619  -0.129006   -0.098343   \n",
       "\n",
       "                         avg_household_residents  yearly_waste_resident  \\\n",
       "district_id                             0.720381              -0.341968   \n",
       "yearly_waste                           -0.250388               0.454385   \n",
       "avg_income_person                      -0.460369               0.221014   \n",
       "Avg_household_income                   -0.244621               0.116668   \n",
       "residents                               0.056115              -0.132700   \n",
       "households                             -0.163751              -0.021201   \n",
       "avg_household_residents                 1.000000              -0.465842   \n",
       "yearly_waste_resident                  -0.465842               1.000000   \n",
       "waste_per_home                         -0.096223               0.917851   \n",
       "\n",
       "                         waste_per_home  \n",
       "district_id                   -0.092682  \n",
       "yearly_waste                   0.386975  \n",
       "avg_income_person              0.100815  \n",
       "Avg_household_income           0.079619  \n",
       "residents                     -0.129006  \n",
       "households                    -0.098343  \n",
       "avg_household_residents       -0.096223  \n",
       "yearly_waste_resident          0.917851  \n",
       "waste_per_home                 1.000000  "
      ]
     },
     "execution_count": 479,
     "metadata": {},
     "output_type": "execute_result"
    }
   ],
   "source": [
    "correlations_matrix = df1.corr()\n",
    "correlations_matrix"
   ]
  },
  {
   "cell_type": "code",
   "execution_count": 480,
   "id": "77c3f48f",
   "metadata": {},
   "outputs": [],
   "source": [
    "sr = df1.drop(['district_name','district_id', 'Avg_household_income', 'households', 'avg_household_residents', 'yearly_waste_resident', 'waste_per_home' ], axis=1)"
   ]
  },
  {
   "cell_type": "code",
   "execution_count": 481,
   "id": "5134c309",
   "metadata": {},
   "outputs": [],
   "source": [
    "y = sr['yearly_waste']\n",
    "X = sr.drop('yearly_waste', axis=1)\n",
    "X_train, X_test, y_train, y_test = train_test_split(X, y, test_size=0.5, random_state=100)"
   ]
  },
  {
   "cell_type": "code",
   "execution_count": 482,
   "id": "82ada9b9",
   "metadata": {},
   "outputs": [],
   "source": [
    "transformer = MinMaxScaler().fit(X_train) # need to keep transformer\n",
    "X_train_normalized = transformer.transform(X_train)\n",
    "X_train_norm = pd.DataFrame(X_train_normalized)\n",
    "X_train_norm.columns = X_train.columns"
   ]
  },
  {
   "cell_type": "code",
   "execution_count": 483,
   "id": "858e87b2",
   "metadata": {},
   "outputs": [
    {
     "data": {
      "text/plain": [
       "LinearRegression()"
      ]
     },
     "execution_count": 483,
     "metadata": {},
     "output_type": "execute_result"
    }
   ],
   "source": [
    "lm = linear_model.LinearRegression()\n",
    "lm.fit(X_train_norm,y_train)"
   ]
  },
  {
   "cell_type": "code",
   "execution_count": 484,
   "id": "f8edadec",
   "metadata": {},
   "outputs": [],
   "source": [
    "X_test_normalized = transformer.transform(X_test)\n",
    "X_test_norm = pd.DataFrame(X_test_normalized)\n",
    "X_test_norm.columns = X_test.columns"
   ]
  },
  {
   "cell_type": "code",
   "execution_count": 485,
   "id": "049db8c4",
   "metadata": {},
   "outputs": [
    {
     "data": {
      "text/plain": [
       "0.5939429954206374"
      ]
     },
     "execution_count": 485,
     "metadata": {},
     "output_type": "execute_result"
    }
   ],
   "source": [
    "predictions = lm.predict(X_test_norm)\n",
    "r2_score(y_test, predictions)"
   ]
  },
  {
   "cell_type": "code",
   "execution_count": 486,
   "id": "0e875e3e",
   "metadata": {},
   "outputs": [
    {
     "data": {
      "text/plain": [
       "18    31398\n",
       "20    11017\n",
       "11    39828\n",
       "19    59967\n",
       "13    24221\n",
       "6     46282\n",
       "0     85006\n",
       "1     42970\n",
       "9     67966\n",
       "17    30143\n",
       "12    71059\n",
       "Name: yearly_waste, dtype: int64"
      ]
     },
     "execution_count": 486,
     "metadata": {},
     "output_type": "execute_result"
    }
   ],
   "source": [
    "y_test"
   ]
  },
  {
   "cell_type": "code",
   "execution_count": 487,
   "id": "5656c4da",
   "metadata": {},
   "outputs": [
    {
     "data": {
      "text/plain": [
       "array([26946.33813027, 23581.22664919, 43590.21337133, 50389.93212694,\n",
       "       33883.62548482, 49903.08695421, 45956.4032125 , 51188.86126009,\n",
       "       70863.78574084, 37124.70517304, 68771.86223027])"
      ]
     },
     "execution_count": 487,
     "metadata": {},
     "output_type": "execute_result"
    }
   ],
   "source": [
    "predictions"
   ]
  },
  {
   "cell_type": "markdown",
   "id": "99b6fb83",
   "metadata": {},
   "source": [
    "# Moncloa-Aravaca"
   ]
  },
  {
   "cell_type": "markdown",
   "id": "10ebf08b",
   "metadata": {},
   "source": [
    "This is where a good knowledge of your city comes in, I was wondering why this district is an outlier when it comes to waste per person.\n",
    "But then I realice that in this district is where 'ciudad universitaria' is. 'Ciudad universitaria' is translated as 'University City', so is the district with most universities by far. Let's analyse it"
   ]
  },
  {
   "cell_type": "code",
   "execution_count": 488,
   "id": "74e05ae6",
   "metadata": {},
   "outputs": [],
   "source": [
    "df_uni = pd.read_excel(\"universidades.xlsx\", engine=\"openpyxl\", sheet_name = \"universidades\")"
   ]
  },
  {
   "cell_type": "code",
   "execution_count": 489,
   "id": "47c5a8e9",
   "metadata": {},
   "outputs": [],
   "source": [
    "df_uni = df_uni[['NOMBRE', 'COD-DISTRITO']]"
   ]
  },
  {
   "cell_type": "code",
   "execution_count": 490,
   "id": "90f5928b",
   "metadata": {},
   "outputs": [
    {
     "data": {
      "text/html": [
       "<div>\n",
       "<style scoped>\n",
       "    .dataframe tbody tr th:only-of-type {\n",
       "        vertical-align: middle;\n",
       "    }\n",
       "\n",
       "    .dataframe tbody tr th {\n",
       "        vertical-align: top;\n",
       "    }\n",
       "\n",
       "    .dataframe thead th {\n",
       "        text-align: right;\n",
       "    }\n",
       "</style>\n",
       "<table border=\"1\" class=\"dataframe\">\n",
       "  <thead>\n",
       "    <tr style=\"text-align: right;\">\n",
       "      <th></th>\n",
       "      <th>NOMBRE</th>\n",
       "      <th>COD-DISTRITO</th>\n",
       "    </tr>\n",
       "  </thead>\n",
       "  <tbody>\n",
       "    <tr>\n",
       "      <th>0</th>\n",
       "      <td>Centro de Enseñanza Superior Cardenal Cisneros</td>\n",
       "      <td>4.0</td>\n",
       "    </tr>\n",
       "    <tr>\n",
       "      <th>1</th>\n",
       "      <td>Centro de Enseñanza Superior en Humanidades y ...</td>\n",
       "      <td>9.0</td>\n",
       "    </tr>\n",
       "    <tr>\n",
       "      <th>2</th>\n",
       "      <td>Centro de Enseñanza Superior Villanueva</td>\n",
       "      <td>8.0</td>\n",
       "    </tr>\n",
       "    <tr>\n",
       "      <th>3</th>\n",
       "      <td>Centro Superior de Diseño y Moda de Madrid</td>\n",
       "      <td>14.0</td>\n",
       "    </tr>\n",
       "    <tr>\n",
       "      <th>4</th>\n",
       "      <td>Centro Superior de Estudios Universitarios La ...</td>\n",
       "      <td>9.0</td>\n",
       "    </tr>\n",
       "    <tr>\n",
       "      <th>...</th>\n",
       "      <td>...</td>\n",
       "      <td>...</td>\n",
       "    </tr>\n",
       "    <tr>\n",
       "      <th>128</th>\n",
       "      <td>Universidad Pontificia Comillas. Facultad de D...</td>\n",
       "      <td>1.0</td>\n",
       "    </tr>\n",
       "    <tr>\n",
       "      <th>129</th>\n",
       "      <td>Universidad Pontificia Comillas. Facultad de T...</td>\n",
       "      <td>8.0</td>\n",
       "    </tr>\n",
       "    <tr>\n",
       "      <th>130</th>\n",
       "      <td>Universidad Pontificia de Comillas. Facultad d...</td>\n",
       "      <td>1.0</td>\n",
       "    </tr>\n",
       "    <tr>\n",
       "      <th>131</th>\n",
       "      <td>Universidad Pontificia de Comillas. Facultad d...</td>\n",
       "      <td>1.0</td>\n",
       "    </tr>\n",
       "    <tr>\n",
       "      <th>132</th>\n",
       "      <td>Universidad Pontificia de Salamanca. Facultad ...</td>\n",
       "      <td>7.0</td>\n",
       "    </tr>\n",
       "  </tbody>\n",
       "</table>\n",
       "<p>133 rows × 2 columns</p>\n",
       "</div>"
      ],
      "text/plain": [
       "                                                NOMBRE  COD-DISTRITO\n",
       "0       Centro de Enseñanza Superior Cardenal Cisneros           4.0\n",
       "1    Centro de Enseñanza Superior en Humanidades y ...           9.0\n",
       "2              Centro de Enseñanza Superior Villanueva           8.0\n",
       "3           Centro Superior de Diseño y Moda de Madrid          14.0\n",
       "4    Centro Superior de Estudios Universitarios La ...           9.0\n",
       "..                                                 ...           ...\n",
       "128  Universidad Pontificia Comillas. Facultad de D...           1.0\n",
       "129  Universidad Pontificia Comillas. Facultad de T...           8.0\n",
       "130  Universidad Pontificia de Comillas. Facultad d...           1.0\n",
       "131  Universidad Pontificia de Comillas. Facultad d...           1.0\n",
       "132  Universidad Pontificia de Salamanca. Facultad ...           7.0\n",
       "\n",
       "[133 rows x 2 columns]"
      ]
     },
     "execution_count": 490,
     "metadata": {},
     "output_type": "execute_result"
    }
   ],
   "source": [
    "df_uni"
   ]
  },
  {
   "cell_type": "code",
   "execution_count": 491,
   "id": "a9043160",
   "metadata": {},
   "outputs": [
    {
     "data": {
      "text/plain": [
       "NOMBRE          0\n",
       "COD-DISTRITO    0\n",
       "dtype: int64"
      ]
     },
     "execution_count": 491,
     "metadata": {},
     "output_type": "execute_result"
    }
   ],
   "source": [
    "df_uni = df_uni.dropna()\n",
    "df_uni.isna().sum()\n"
   ]
  },
  {
   "cell_type": "code",
   "execution_count": 492,
   "id": "a17bc602",
   "metadata": {},
   "outputs": [
    {
     "name": "stderr",
     "output_type": "stream",
     "text": [
      "C:\\Users\\gonza\\AppData\\Local\\Temp/ipykernel_24388/1539918662.py:1: SettingWithCopyWarning: \n",
      "A value is trying to be set on a copy of a slice from a DataFrame.\n",
      "Try using .loc[row_indexer,col_indexer] = value instead\n",
      "\n",
      "See the caveats in the documentation: https://pandas.pydata.org/pandas-docs/stable/user_guide/indexing.html#returning-a-view-versus-a-copy\n",
      "  df_uni['COD-DISTRITO'] = list(map(lambda x: int(x), df_uni['COD-DISTRITO']))\n"
     ]
    }
   ],
   "source": [
    "df_uni['COD-DISTRITO'] = list(map(lambda x: int(x), df_uni['COD-DISTRITO']))"
   ]
  },
  {
   "cell_type": "code",
   "execution_count": 493,
   "id": "9a076b51",
   "metadata": {},
   "outputs": [
    {
     "data": {
      "text/html": [
       "<div>\n",
       "<style scoped>\n",
       "    .dataframe tbody tr th:only-of-type {\n",
       "        vertical-align: middle;\n",
       "    }\n",
       "\n",
       "    .dataframe tbody tr th {\n",
       "        vertical-align: top;\n",
       "    }\n",
       "\n",
       "    .dataframe thead th {\n",
       "        text-align: right;\n",
       "    }\n",
       "</style>\n",
       "<table border=\"1\" class=\"dataframe\">\n",
       "  <thead>\n",
       "    <tr style=\"text-align: right;\">\n",
       "      <th></th>\n",
       "      <th>NOMBRE</th>\n",
       "      <th>COD-DISTRITO</th>\n",
       "    </tr>\n",
       "  </thead>\n",
       "  <tbody>\n",
       "    <tr>\n",
       "      <th>0</th>\n",
       "      <td>Centro de Enseñanza Superior Cardenal Cisneros</td>\n",
       "      <td>4</td>\n",
       "    </tr>\n",
       "    <tr>\n",
       "      <th>1</th>\n",
       "      <td>Centro de Enseñanza Superior en Humanidades y ...</td>\n",
       "      <td>9</td>\n",
       "    </tr>\n",
       "    <tr>\n",
       "      <th>2</th>\n",
       "      <td>Centro de Enseñanza Superior Villanueva</td>\n",
       "      <td>8</td>\n",
       "    </tr>\n",
       "    <tr>\n",
       "      <th>3</th>\n",
       "      <td>Centro Superior de Diseño y Moda de Madrid</td>\n",
       "      <td>14</td>\n",
       "    </tr>\n",
       "    <tr>\n",
       "      <th>4</th>\n",
       "      <td>Centro Superior de Estudios Universitarios La ...</td>\n",
       "      <td>9</td>\n",
       "    </tr>\n",
       "    <tr>\n",
       "      <th>...</th>\n",
       "      <td>...</td>\n",
       "      <td>...</td>\n",
       "    </tr>\n",
       "    <tr>\n",
       "      <th>128</th>\n",
       "      <td>Universidad Pontificia Comillas. Facultad de D...</td>\n",
       "      <td>1</td>\n",
       "    </tr>\n",
       "    <tr>\n",
       "      <th>129</th>\n",
       "      <td>Universidad Pontificia Comillas. Facultad de T...</td>\n",
       "      <td>8</td>\n",
       "    </tr>\n",
       "    <tr>\n",
       "      <th>130</th>\n",
       "      <td>Universidad Pontificia de Comillas. Facultad d...</td>\n",
       "      <td>1</td>\n",
       "    </tr>\n",
       "    <tr>\n",
       "      <th>131</th>\n",
       "      <td>Universidad Pontificia de Comillas. Facultad d...</td>\n",
       "      <td>1</td>\n",
       "    </tr>\n",
       "    <tr>\n",
       "      <th>132</th>\n",
       "      <td>Universidad Pontificia de Salamanca. Facultad ...</td>\n",
       "      <td>7</td>\n",
       "    </tr>\n",
       "  </tbody>\n",
       "</table>\n",
       "<p>129 rows × 2 columns</p>\n",
       "</div>"
      ],
      "text/plain": [
       "                                                NOMBRE  COD-DISTRITO\n",
       "0       Centro de Enseñanza Superior Cardenal Cisneros             4\n",
       "1    Centro de Enseñanza Superior en Humanidades y ...             9\n",
       "2              Centro de Enseñanza Superior Villanueva             8\n",
       "3           Centro Superior de Diseño y Moda de Madrid            14\n",
       "4    Centro Superior de Estudios Universitarios La ...             9\n",
       "..                                                 ...           ...\n",
       "128  Universidad Pontificia Comillas. Facultad de D...             1\n",
       "129  Universidad Pontificia Comillas. Facultad de T...             8\n",
       "130  Universidad Pontificia de Comillas. Facultad d...             1\n",
       "131  Universidad Pontificia de Comillas. Facultad d...             1\n",
       "132  Universidad Pontificia de Salamanca. Facultad ...             7\n",
       "\n",
       "[129 rows x 2 columns]"
      ]
     },
     "execution_count": 493,
     "metadata": {},
     "output_type": "execute_result"
    }
   ],
   "source": [
    "df_uni"
   ]
  },
  {
   "cell_type": "code",
   "execution_count": 494,
   "id": "79a149d0",
   "metadata": {},
   "outputs": [
    {
     "data": {
      "text/html": [
       "<div>\n",
       "<style scoped>\n",
       "    .dataframe tbody tr th:only-of-type {\n",
       "        vertical-align: middle;\n",
       "    }\n",
       "\n",
       "    .dataframe tbody tr th {\n",
       "        vertical-align: top;\n",
       "    }\n",
       "\n",
       "    .dataframe thead th {\n",
       "        text-align: right;\n",
       "    }\n",
       "</style>\n",
       "<table border=\"1\" class=\"dataframe\">\n",
       "  <thead>\n",
       "    <tr style=\"text-align: right;\">\n",
       "      <th></th>\n",
       "      <th>COD-DISTRITO</th>\n",
       "      <th>university_centers</th>\n",
       "    </tr>\n",
       "  </thead>\n",
       "  <tbody>\n",
       "    <tr>\n",
       "      <th>0</th>\n",
       "      <td>1</td>\n",
       "      <td>10</td>\n",
       "    </tr>\n",
       "    <tr>\n",
       "      <th>1</th>\n",
       "      <td>2</td>\n",
       "      <td>1</td>\n",
       "    </tr>\n",
       "    <tr>\n",
       "      <th>2</th>\n",
       "      <td>3</td>\n",
       "      <td>1</td>\n",
       "    </tr>\n",
       "    <tr>\n",
       "      <th>3</th>\n",
       "      <td>4</td>\n",
       "      <td>3</td>\n",
       "    </tr>\n",
       "    <tr>\n",
       "      <th>4</th>\n",
       "      <td>5</td>\n",
       "      <td>7</td>\n",
       "    </tr>\n",
       "    <tr>\n",
       "      <th>5</th>\n",
       "      <td>7</td>\n",
       "      <td>19</td>\n",
       "    </tr>\n",
       "    <tr>\n",
       "      <th>6</th>\n",
       "      <td>8</td>\n",
       "      <td>17</td>\n",
       "    </tr>\n",
       "    <tr>\n",
       "      <th>7</th>\n",
       "      <td>9</td>\n",
       "      <td>63</td>\n",
       "    </tr>\n",
       "    <tr>\n",
       "      <th>8</th>\n",
       "      <td>10</td>\n",
       "      <td>1</td>\n",
       "    </tr>\n",
       "    <tr>\n",
       "      <th>9</th>\n",
       "      <td>11</td>\n",
       "      <td>1</td>\n",
       "    </tr>\n",
       "    <tr>\n",
       "      <th>10</th>\n",
       "      <td>13</td>\n",
       "      <td>1</td>\n",
       "    </tr>\n",
       "    <tr>\n",
       "      <th>11</th>\n",
       "      <td>14</td>\n",
       "      <td>4</td>\n",
       "    </tr>\n",
       "    <tr>\n",
       "      <th>12</th>\n",
       "      <td>20</td>\n",
       "      <td>1</td>\n",
       "    </tr>\n",
       "  </tbody>\n",
       "</table>\n",
       "</div>"
      ],
      "text/plain": [
       "    COD-DISTRITO  university_centers\n",
       "0              1                  10\n",
       "1              2                   1\n",
       "2              3                   1\n",
       "3              4                   3\n",
       "4              5                   7\n",
       "5              7                  19\n",
       "6              8                  17\n",
       "7              9                  63\n",
       "8             10                   1\n",
       "9             11                   1\n",
       "10            13                   1\n",
       "11            14                   4\n",
       "12            20                   1"
      ]
     },
     "execution_count": 494,
     "metadata": {},
     "output_type": "execute_result"
    }
   ],
   "source": [
    "#df_uni = df_uni.groupby(index= ['COD-DISTRITO'], aggfunc = ['count'])\n",
    "df_uni = df_uni.groupby(['COD-DISTRITO']).size().reset_index(name='university_centers')\n",
    "df_uni"
   ]
  },
  {
   "cell_type": "code",
   "execution_count": 495,
   "id": "41c0b351",
   "metadata": {},
   "outputs": [],
   "source": [
    "df_uni = df_uni.rename(columns={'COD-DISTRITO':'district_id'})"
   ]
  },
  {
   "cell_type": "code",
   "execution_count": 496,
   "id": "615d768b",
   "metadata": {},
   "outputs": [
    {
     "data": {
      "text/html": [
       "<div>\n",
       "<style scoped>\n",
       "    .dataframe tbody tr th:only-of-type {\n",
       "        vertical-align: middle;\n",
       "    }\n",
       "\n",
       "    .dataframe tbody tr th {\n",
       "        vertical-align: top;\n",
       "    }\n",
       "\n",
       "    .dataframe thead th {\n",
       "        text-align: right;\n",
       "    }\n",
       "</style>\n",
       "<table border=\"1\" class=\"dataframe\">\n",
       "  <thead>\n",
       "    <tr style=\"text-align: right;\">\n",
       "      <th></th>\n",
       "      <th>district_id</th>\n",
       "      <th>university_centers</th>\n",
       "    </tr>\n",
       "  </thead>\n",
       "  <tbody>\n",
       "    <tr>\n",
       "      <th>0</th>\n",
       "      <td>1</td>\n",
       "      <td>10</td>\n",
       "    </tr>\n",
       "    <tr>\n",
       "      <th>1</th>\n",
       "      <td>2</td>\n",
       "      <td>1</td>\n",
       "    </tr>\n",
       "    <tr>\n",
       "      <th>2</th>\n",
       "      <td>3</td>\n",
       "      <td>1</td>\n",
       "    </tr>\n",
       "    <tr>\n",
       "      <th>3</th>\n",
       "      <td>4</td>\n",
       "      <td>3</td>\n",
       "    </tr>\n",
       "    <tr>\n",
       "      <th>4</th>\n",
       "      <td>5</td>\n",
       "      <td>7</td>\n",
       "    </tr>\n",
       "    <tr>\n",
       "      <th>5</th>\n",
       "      <td>7</td>\n",
       "      <td>19</td>\n",
       "    </tr>\n",
       "    <tr>\n",
       "      <th>6</th>\n",
       "      <td>8</td>\n",
       "      <td>17</td>\n",
       "    </tr>\n",
       "    <tr>\n",
       "      <th>7</th>\n",
       "      <td>9</td>\n",
       "      <td>63</td>\n",
       "    </tr>\n",
       "    <tr>\n",
       "      <th>8</th>\n",
       "      <td>10</td>\n",
       "      <td>1</td>\n",
       "    </tr>\n",
       "    <tr>\n",
       "      <th>9</th>\n",
       "      <td>11</td>\n",
       "      <td>1</td>\n",
       "    </tr>\n",
       "    <tr>\n",
       "      <th>10</th>\n",
       "      <td>13</td>\n",
       "      <td>1</td>\n",
       "    </tr>\n",
       "    <tr>\n",
       "      <th>11</th>\n",
       "      <td>14</td>\n",
       "      <td>4</td>\n",
       "    </tr>\n",
       "    <tr>\n",
       "      <th>12</th>\n",
       "      <td>20</td>\n",
       "      <td>1</td>\n",
       "    </tr>\n",
       "  </tbody>\n",
       "</table>\n",
       "</div>"
      ],
      "text/plain": [
       "    district_id  university_centers\n",
       "0             1                  10\n",
       "1             2                   1\n",
       "2             3                   1\n",
       "3             4                   3\n",
       "4             5                   7\n",
       "5             7                  19\n",
       "6             8                  17\n",
       "7             9                  63\n",
       "8            10                   1\n",
       "9            11                   1\n",
       "10           13                   1\n",
       "11           14                   4\n",
       "12           20                   1"
      ]
     },
     "execution_count": 496,
     "metadata": {},
     "output_type": "execute_result"
    }
   ],
   "source": [
    "df_uni"
   ]
  },
  {
   "cell_type": "code",
   "execution_count": 497,
   "id": "4fbb015a",
   "metadata": {},
   "outputs": [],
   "source": [
    "df_uni.to_csv('universities_district.csv', index = False)"
   ]
  },
  {
   "cell_type": "markdown",
   "id": "80f791d1",
   "metadata": {},
   "source": [
    "As a conclusion we can say that is it clear that the big amount of university centers influence because there are more than 3 times university centers than in the second one with most"
   ]
  },
  {
   "cell_type": "markdown",
   "id": "81382dea",
   "metadata": {},
   "source": [
    "# Centro"
   ]
  },
  {
   "cell_type": "markdown",
   "id": "f3701116",
   "metadata": {},
   "source": [
    "'Centro' is the district in Madrid with more tourism so we will analyse if this has anything to do"
   ]
  },
  {
   "cell_type": "markdown",
   "id": "629e7839",
   "metadata": {},
   "source": [
    "We going to check the amount of Tourist flats and the amount of rooms of hotels, my hypotesis is that the will have high correlation between them so we will have to drop one or the other so we don´t have problems with the multicolinearity"
   ]
  },
  {
   "cell_type": "code",
   "execution_count": 498,
   "id": "6d5acb2b",
   "metadata": {},
   "outputs": [],
   "source": [
    "df_flat = pd.read_excel(\"Apartamentos turisticos.xlsx\", engine=\"openpyxl\", sheet_name = \"MadridDatos 1.0\")\n",
    "df_hotels = pd.read_excel(\"Habitaciones Hoteles y hostales.xlsx\", engine=\"openpyxl\", sheet_name = \"MadridDatos 1.0\")"
   ]
  },
  {
   "cell_type": "code",
   "execution_count": 499,
   "id": "0017d77b",
   "metadata": {},
   "outputs": [
    {
     "data": {
      "text/plain": [
       "Index(['Distritos', 'Apartamento turístico', 'Hotel-apartamento',\n",
       "       'Vivienda de uso turístico'],\n",
       "      dtype='object')"
      ]
     },
     "execution_count": 499,
     "metadata": {},
     "output_type": "execute_result"
    }
   ],
   "source": [
    "df_flat.columns"
   ]
  },
  {
   "cell_type": "code",
   "execution_count": 500,
   "id": "6deaa341",
   "metadata": {},
   "outputs": [],
   "source": [
    "df_flat['Vivienda de uso turístico'] = list(map(lambda x: int(x), df_flat['Vivienda de uso turístico']))"
   ]
  },
  {
   "cell_type": "code",
   "execution_count": 501,
   "id": "74126256",
   "metadata": {},
   "outputs": [],
   "source": [
    "df_flat[['district_id', 'district_name']] = df_flat['Distritos'].str.split('.', expand=True)"
   ]
  },
  {
   "cell_type": "code",
   "execution_count": 502,
   "id": "8437d607",
   "metadata": {},
   "outputs": [],
   "source": [
    "df_flat = df_flat.drop(['Distritos'],axis=1)"
   ]
  },
  {
   "cell_type": "code",
   "execution_count": 503,
   "id": "84977744",
   "metadata": {},
   "outputs": [
    {
     "data": {
      "text/plain": [
       "Index(['Apartamento turístico', 'Hotel-apartamento',\n",
       "       'Vivienda de uso turístico', 'district_id', 'district_name'],\n",
       "      dtype='object')"
      ]
     },
     "execution_count": 503,
     "metadata": {},
     "output_type": "execute_result"
    }
   ],
   "source": [
    "df_flat.columns"
   ]
  },
  {
   "cell_type": "code",
   "execution_count": 504,
   "id": "a429090e",
   "metadata": {},
   "outputs": [],
   "source": [
    "df_flat = df_flat.rename(columns={'Apartamento turístico':'tourist_flats', 'Hotel-apartamento':'aparthotel', 'Vivienda de uso turístico':'tourist_housing'})\n",
    "df_flat = df_flat[['district_id', 'district_name', 'tourist_flats', 'aparthotel', 'tourist_housing']]"
   ]
  },
  {
   "cell_type": "code",
   "execution_count": 505,
   "id": "13c464b3",
   "metadata": {},
   "outputs": [],
   "source": [
    "df_flat['district_id'] = list(map(lambda x: int(x), df_flat['district_id']))"
   ]
  },
  {
   "cell_type": "code",
   "execution_count": 506,
   "id": "62252d54",
   "metadata": {},
   "outputs": [],
   "source": [
    "df_flat = items_lower(df_flat)\n",
    "df_flat = accent_replace(df_flat)"
   ]
  },
  {
   "cell_type": "markdown",
   "id": "bb18cbed",
   "metadata": {},
   "source": [
    "Now lets clean hotel rooms, since we don´t care about the category we are going to drop the categories and just keep the total of rooms"
   ]
  },
  {
   "cell_type": "code",
   "execution_count": 507,
   "id": "d18a5e9b",
   "metadata": {},
   "outputs": [],
   "source": [
    "df_hotels = df_hotels[['Distritos', 'Total']]"
   ]
  },
  {
   "cell_type": "code",
   "execution_count": 508,
   "id": "6bcc217a",
   "metadata": {},
   "outputs": [],
   "source": [
    "df_hotels[['district_id1', 'district_name1']] = df_hotels['Distritos'].str.split('.', expand=True)"
   ]
  },
  {
   "cell_type": "code",
   "execution_count": 509,
   "id": "22da28b7",
   "metadata": {},
   "outputs": [],
   "source": [
    "df_hotels = df_hotels.drop(['Distritos'], axis=1)\n",
    "df_hotels = df_hotels[['district_id1', 'district_name1', 'Total']]"
   ]
  },
  {
   "cell_type": "code",
   "execution_count": 510,
   "id": "909325d6",
   "metadata": {},
   "outputs": [],
   "source": [
    "df_hotels['district_id1'] = list(map(lambda x: int(x), df_hotels['district_id1']))"
   ]
  },
  {
   "cell_type": "code",
   "execution_count": 511,
   "id": "6483bc44",
   "metadata": {},
   "outputs": [],
   "source": [
    "df_hotels = df_hotels.rename(columns={'Total':'hotel_rooms'})"
   ]
  },
  {
   "cell_type": "markdown",
   "id": "baa19a19",
   "metadata": {},
   "source": [
    "We concat both tables we just created for turism is not neccesary to join because they are in the same order"
   ]
  },
  {
   "cell_type": "code",
   "execution_count": 512,
   "id": "575f1f4b",
   "metadata": {},
   "outputs": [],
   "source": [
    "df_turism= pd.concat([df_flat, df_hotels], axis=1)"
   ]
  },
  {
   "cell_type": "code",
   "execution_count": 513,
   "id": "9d902ad3",
   "metadata": {},
   "outputs": [],
   "source": [
    "df_turism= df_turism.drop(['district_id1', 'district_name1'], axis=1)"
   ]
  },
  {
   "cell_type": "markdown",
   "id": "201235a7",
   "metadata": {},
   "source": [
    "Now we are to check for correlations"
   ]
  },
  {
   "cell_type": "code",
   "execution_count": 514,
   "id": "fe01c62f",
   "metadata": {},
   "outputs": [
    {
     "data": {
      "image/png": "[encoded data removed]",
      "text/plain": [
       "<Figure size 432x288 with 2 Axes>"
      ]
     },
     "metadata": {
      "needs_background": "light"
     },
     "output_type": "display_data"
    }
   ],
   "source": [
    "correlations_matrix = df_turism.corr()\n",
    "sns.heatmap(correlations_matrix, annot=True)\n",
    "plt.show()"
   ]
  },
  {
   "cell_type": "markdown",
   "id": "9c388e0f",
   "metadata": {},
   "source": [
    "As we can see there is a very high correlation between tourist flats and tourist housing with hotels so we are going to drop both"
   ]
  },
  {
   "cell_type": "code",
   "execution_count": 515,
   "id": "69f6bf5b",
   "metadata": {},
   "outputs": [
    {
     "data": {
      "text/plain": [
       "Index(['district_id', 'district_name', 'tourist_flats', 'aparthotel',\n",
       "       'tourist_housing', 'hotel_rooms'],\n",
       "      dtype='object')"
      ]
     },
     "execution_count": 515,
     "metadata": {},
     "output_type": "execute_result"
    }
   ],
   "source": [
    "df_turism.columns"
   ]
  },
  {
   "cell_type": "code",
   "execution_count": 516,
   "id": "54bd4cf7",
   "metadata": {},
   "outputs": [],
   "source": [
    "df_turism = df_turism.drop(['tourist_flats', 'tourist_housing'], axis=1)"
   ]
  },
  {
   "cell_type": "code",
   "execution_count": 517,
   "id": "669e2cb4",
   "metadata": {},
   "outputs": [
    {
     "data": {
      "text/html": [
       "<div>\n",
       "<style scoped>\n",
       "    .dataframe tbody tr th:only-of-type {\n",
       "        vertical-align: middle;\n",
       "    }\n",
       "\n",
       "    .dataframe tbody tr th {\n",
       "        vertical-align: top;\n",
       "    }\n",
       "\n",
       "    .dataframe thead th {\n",
       "        text-align: right;\n",
       "    }\n",
       "</style>\n",
       "<table border=\"1\" class=\"dataframe\">\n",
       "  <thead>\n",
       "    <tr style=\"text-align: right;\">\n",
       "      <th></th>\n",
       "      <th>district_id</th>\n",
       "      <th>district_name</th>\n",
       "      <th>aparthotel</th>\n",
       "      <th>hotel_rooms</th>\n",
       "    </tr>\n",
       "  </thead>\n",
       "  <tbody>\n",
       "    <tr>\n",
       "      <th>0</th>\n",
       "      <td>1</td>\n",
       "      <td>centro</td>\n",
       "      <td>1</td>\n",
       "      <td>19962</td>\n",
       "    </tr>\n",
       "    <tr>\n",
       "      <th>1</th>\n",
       "      <td>2</td>\n",
       "      <td>arganzuela</td>\n",
       "      <td>0</td>\n",
       "      <td>1576</td>\n",
       "    </tr>\n",
       "    <tr>\n",
       "      <th>2</th>\n",
       "      <td>3</td>\n",
       "      <td>retiro</td>\n",
       "      <td>0</td>\n",
       "      <td>1450</td>\n",
       "    </tr>\n",
       "    <tr>\n",
       "      <th>3</th>\n",
       "      <td>4</td>\n",
       "      <td>salamanca</td>\n",
       "      <td>2</td>\n",
       "      <td>4709</td>\n",
       "    </tr>\n",
       "    <tr>\n",
       "      <th>4</th>\n",
       "      <td>5</td>\n",
       "      <td>chamartin</td>\n",
       "      <td>2</td>\n",
       "      <td>2664</td>\n",
       "    </tr>\n",
       "    <tr>\n",
       "      <th>5</th>\n",
       "      <td>6</td>\n",
       "      <td>tetuan</td>\n",
       "      <td>1</td>\n",
       "      <td>2328</td>\n",
       "    </tr>\n",
       "    <tr>\n",
       "      <th>6</th>\n",
       "      <td>7</td>\n",
       "      <td>chamberi</td>\n",
       "      <td>0</td>\n",
       "      <td>3091</td>\n",
       "    </tr>\n",
       "    <tr>\n",
       "      <th>7</th>\n",
       "      <td>8</td>\n",
       "      <td>fuencarral-el pardo</td>\n",
       "      <td>0</td>\n",
       "      <td>1482</td>\n",
       "    </tr>\n",
       "    <tr>\n",
       "      <th>8</th>\n",
       "      <td>9</td>\n",
       "      <td>moncloa-aravaca</td>\n",
       "      <td>0</td>\n",
       "      <td>1904</td>\n",
       "    </tr>\n",
       "    <tr>\n",
       "      <th>9</th>\n",
       "      <td>10</td>\n",
       "      <td>latina</td>\n",
       "      <td>0</td>\n",
       "      <td>38</td>\n",
       "    </tr>\n",
       "    <tr>\n",
       "      <th>10</th>\n",
       "      <td>11</td>\n",
       "      <td>carabanchel</td>\n",
       "      <td>0</td>\n",
       "      <td>569</td>\n",
       "    </tr>\n",
       "    <tr>\n",
       "      <th>11</th>\n",
       "      <td>12</td>\n",
       "      <td>usera</td>\n",
       "      <td>0</td>\n",
       "      <td>62</td>\n",
       "    </tr>\n",
       "    <tr>\n",
       "      <th>12</th>\n",
       "      <td>13</td>\n",
       "      <td>puente de vallecas</td>\n",
       "      <td>0</td>\n",
       "      <td>108</td>\n",
       "    </tr>\n",
       "    <tr>\n",
       "      <th>13</th>\n",
       "      <td>14</td>\n",
       "      <td>moratalaz</td>\n",
       "      <td>0</td>\n",
       "      <td>0</td>\n",
       "    </tr>\n",
       "    <tr>\n",
       "      <th>14</th>\n",
       "      <td>15</td>\n",
       "      <td>ciudad lineal</td>\n",
       "      <td>2</td>\n",
       "      <td>1359</td>\n",
       "    </tr>\n",
       "    <tr>\n",
       "      <th>15</th>\n",
       "      <td>16</td>\n",
       "      <td>hortaleza</td>\n",
       "      <td>0</td>\n",
       "      <td>821</td>\n",
       "    </tr>\n",
       "    <tr>\n",
       "      <th>16</th>\n",
       "      <td>17</td>\n",
       "      <td>villaverde</td>\n",
       "      <td>2</td>\n",
       "      <td>250</td>\n",
       "    </tr>\n",
       "    <tr>\n",
       "      <th>17</th>\n",
       "      <td>18</td>\n",
       "      <td>villa de vallecas</td>\n",
       "      <td>0</td>\n",
       "      <td>512</td>\n",
       "    </tr>\n",
       "    <tr>\n",
       "      <th>18</th>\n",
       "      <td>19</td>\n",
       "      <td>vicalvaro</td>\n",
       "      <td>1</td>\n",
       "      <td>0</td>\n",
       "    </tr>\n",
       "    <tr>\n",
       "      <th>19</th>\n",
       "      <td>20</td>\n",
       "      <td>san blas-canillejas</td>\n",
       "      <td>0</td>\n",
       "      <td>3568</td>\n",
       "    </tr>\n",
       "    <tr>\n",
       "      <th>20</th>\n",
       "      <td>21</td>\n",
       "      <td>barajas</td>\n",
       "      <td>1</td>\n",
       "      <td>2466</td>\n",
       "    </tr>\n",
       "  </tbody>\n",
       "</table>\n",
       "</div>"
      ],
      "text/plain": [
       "    district_id         district_name  aparthotel  hotel_rooms\n",
       "0             1                centro           1        19962\n",
       "1             2            arganzuela           0         1576\n",
       "2             3                retiro           0         1450\n",
       "3             4             salamanca           2         4709\n",
       "4             5             chamartin           2         2664\n",
       "5             6                tetuan           1         2328\n",
       "6             7              chamberi           0         3091\n",
       "7             8   fuencarral-el pardo           0         1482\n",
       "8             9       moncloa-aravaca           0         1904\n",
       "9            10                latina           0           38\n",
       "10           11           carabanchel           0          569\n",
       "11           12                 usera           0           62\n",
       "12           13    puente de vallecas           0          108\n",
       "13           14             moratalaz           0            0\n",
       "14           15         ciudad lineal           2         1359\n",
       "15           16             hortaleza           0          821\n",
       "16           17            villaverde           2          250\n",
       "17           18     villa de vallecas           0          512\n",
       "18           19             vicalvaro           1            0\n",
       "19           20   san blas-canillejas           0         3568\n",
       "20           21               barajas           1         2466"
      ]
     },
     "execution_count": 517,
     "metadata": {},
     "output_type": "execute_result"
    }
   ],
   "source": [
    "df_turism"
   ]
  },
  {
   "cell_type": "code",
   "execution_count": 518,
   "id": "6add56d6",
   "metadata": {},
   "outputs": [],
   "source": [
    "df_turism.to_csv('turism_districts.csv', index = False)"
   ]
  },
  {
   "cell_type": "code",
   "execution_count": 519,
   "id": "c4049c6c",
   "metadata": {},
   "outputs": [
    {
     "data": {
      "text/html": [
       "<div>\n",
       "<style scoped>\n",
       "    .dataframe tbody tr th:only-of-type {\n",
       "        vertical-align: middle;\n",
       "    }\n",
       "\n",
       "    .dataframe tbody tr th {\n",
       "        vertical-align: top;\n",
       "    }\n",
       "\n",
       "    .dataframe thead th {\n",
       "        text-align: right;\n",
       "    }\n",
       "</style>\n",
       "<table border=\"1\" class=\"dataframe\">\n",
       "  <thead>\n",
       "    <tr style=\"text-align: right;\">\n",
       "      <th></th>\n",
       "      <th>district_name</th>\n",
       "      <th>district_id</th>\n",
       "      <th>yearly_waste</th>\n",
       "      <th>avg_income_person</th>\n",
       "      <th>avg_household_residents</th>\n",
       "      <th>residents</th>\n",
       "      <th>university_centers</th>\n",
       "      <th>aparthotel</th>\n",
       "      <th>hotel_rooms</th>\n",
       "    </tr>\n",
       "  </thead>\n",
       "  <tbody>\n",
       "    <tr>\n",
       "      <th>0</th>\n",
       "      <td>centro</td>\n",
       "      <td>1</td>\n",
       "      <td>85006</td>\n",
       "      <td>17932.0</td>\n",
       "      <td>2.004294</td>\n",
       "      <td>134881.0</td>\n",
       "      <td>10.0</td>\n",
       "      <td>1</td>\n",
       "      <td>19962</td>\n",
       "    </tr>\n",
       "    <tr>\n",
       "      <th>1</th>\n",
       "      <td>arganzuela</td>\n",
       "      <td>2</td>\n",
       "      <td>42970</td>\n",
       "      <td>18473.0</td>\n",
       "      <td>2.366433</td>\n",
       "      <td>153830.0</td>\n",
       "      <td>1.0</td>\n",
       "      <td>0</td>\n",
       "      <td>1576</td>\n",
       "    </tr>\n",
       "    <tr>\n",
       "      <th>2</th>\n",
       "      <td>retiro</td>\n",
       "      <td>3</td>\n",
       "      <td>36880</td>\n",
       "      <td>22706.0</td>\n",
       "      <td>2.452674</td>\n",
       "      <td>119379.0</td>\n",
       "      <td>1.0</td>\n",
       "      <td>0</td>\n",
       "      <td>1450</td>\n",
       "    </tr>\n",
       "    <tr>\n",
       "      <th>3</th>\n",
       "      <td>salamanca</td>\n",
       "      <td>4</td>\n",
       "      <td>53533</td>\n",
       "      <td>26255.0</td>\n",
       "      <td>2.321615</td>\n",
       "      <td>146148.0</td>\n",
       "      <td>3.0</td>\n",
       "      <td>2</td>\n",
       "      <td>4709</td>\n",
       "    </tr>\n",
       "    <tr>\n",
       "      <th>4</th>\n",
       "      <td>chamartin</td>\n",
       "      <td>5</td>\n",
       "      <td>48791</td>\n",
       "      <td>28190.0</td>\n",
       "      <td>2.504550</td>\n",
       "      <td>145865.0</td>\n",
       "      <td>7.0</td>\n",
       "      <td>2</td>\n",
       "      <td>2664</td>\n",
       "    </tr>\n",
       "    <tr>\n",
       "      <th>5</th>\n",
       "      <td>tetuan</td>\n",
       "      <td>6</td>\n",
       "      <td>52020</td>\n",
       "      <td>15742.0</td>\n",
       "      <td>2.377567</td>\n",
       "      <td>157937.0</td>\n",
       "      <td>NaN</td>\n",
       "      <td>1</td>\n",
       "      <td>2328</td>\n",
       "    </tr>\n",
       "    <tr>\n",
       "      <th>6</th>\n",
       "      <td>chamberi</td>\n",
       "      <td>7</td>\n",
       "      <td>46282</td>\n",
       "      <td>24112.0</td>\n",
       "      <td>2.248690</td>\n",
       "      <td>139448.0</td>\n",
       "      <td>19.0</td>\n",
       "      <td>0</td>\n",
       "      <td>3091</td>\n",
       "    </tr>\n",
       "    <tr>\n",
       "      <th>7</th>\n",
       "      <td>fuencarral</td>\n",
       "      <td>8</td>\n",
       "      <td>78917</td>\n",
       "      <td>19551.0</td>\n",
       "      <td>2.718614</td>\n",
       "      <td>246021.0</td>\n",
       "      <td>17.0</td>\n",
       "      <td>0</td>\n",
       "      <td>1482</td>\n",
       "    </tr>\n",
       "    <tr>\n",
       "      <th>8</th>\n",
       "      <td>moncloa - aravaca</td>\n",
       "      <td>9</td>\n",
       "      <td>56453</td>\n",
       "      <td>24686.0</td>\n",
       "      <td>2.616057</td>\n",
       "      <td>119423.0</td>\n",
       "      <td>63.0</td>\n",
       "      <td>0</td>\n",
       "      <td>1904</td>\n",
       "    </tr>\n",
       "    <tr>\n",
       "      <th>9</th>\n",
       "      <td>latina</td>\n",
       "      <td>10</td>\n",
       "      <td>67966</td>\n",
       "      <td>12749.0</td>\n",
       "      <td>2.501171</td>\n",
       "      <td>238154.0</td>\n",
       "      <td>1.0</td>\n",
       "      <td>0</td>\n",
       "      <td>38</td>\n",
       "    </tr>\n",
       "    <tr>\n",
       "      <th>10</th>\n",
       "      <td>carabanchel</td>\n",
       "      <td>11</td>\n",
       "      <td>75869</td>\n",
       "      <td>11327.0</td>\n",
       "      <td>2.644649</td>\n",
       "      <td>253040.0</td>\n",
       "      <td>1.0</td>\n",
       "      <td>0</td>\n",
       "      <td>569</td>\n",
       "    </tr>\n",
       "    <tr>\n",
       "      <th>11</th>\n",
       "      <td>usera</td>\n",
       "      <td>12</td>\n",
       "      <td>39828</td>\n",
       "      <td>9860.0</td>\n",
       "      <td>2.802350</td>\n",
       "      <td>139501.0</td>\n",
       "      <td>NaN</td>\n",
       "      <td>0</td>\n",
       "      <td>62</td>\n",
       "    </tr>\n",
       "    <tr>\n",
       "      <th>12</th>\n",
       "      <td>puente de vallecas</td>\n",
       "      <td>13</td>\n",
       "      <td>71059</td>\n",
       "      <td>10045.0</td>\n",
       "      <td>2.653818</td>\n",
       "      <td>234770.0</td>\n",
       "      <td>1.0</td>\n",
       "      <td>0</td>\n",
       "      <td>108</td>\n",
       "    </tr>\n",
       "    <tr>\n",
       "      <th>13</th>\n",
       "      <td>moratalaz</td>\n",
       "      <td>14</td>\n",
       "      <td>24221</td>\n",
       "      <td>14637.0</td>\n",
       "      <td>2.519749</td>\n",
       "      <td>94609.0</td>\n",
       "      <td>4.0</td>\n",
       "      <td>0</td>\n",
       "      <td>0</td>\n",
       "    </tr>\n",
       "    <tr>\n",
       "      <th>14</th>\n",
       "      <td>ciudad lineal</td>\n",
       "      <td>15</td>\n",
       "      <td>62649</td>\n",
       "      <td>15815.0</td>\n",
       "      <td>2.495673</td>\n",
       "      <td>216270.0</td>\n",
       "      <td>NaN</td>\n",
       "      <td>2</td>\n",
       "      <td>1359</td>\n",
       "    </tr>\n",
       "    <tr>\n",
       "      <th>15</th>\n",
       "      <td>hortaleza</td>\n",
       "      <td>16</td>\n",
       "      <td>58331</td>\n",
       "      <td>19759.0</td>\n",
       "      <td>2.685730</td>\n",
       "      <td>188267.0</td>\n",
       "      <td>NaN</td>\n",
       "      <td>0</td>\n",
       "      <td>821</td>\n",
       "    </tr>\n",
       "    <tr>\n",
       "      <th>16</th>\n",
       "      <td>villaverde</td>\n",
       "      <td>17</td>\n",
       "      <td>46112</td>\n",
       "      <td>10164.0</td>\n",
       "      <td>2.791574</td>\n",
       "      <td>148883.0</td>\n",
       "      <td>NaN</td>\n",
       "      <td>2</td>\n",
       "      <td>250</td>\n",
       "    </tr>\n",
       "    <tr>\n",
       "      <th>17</th>\n",
       "      <td>villa de vallecas</td>\n",
       "      <td>18</td>\n",
       "      <td>30143</td>\n",
       "      <td>12545.0</td>\n",
       "      <td>2.614674</td>\n",
       "      <td>110436.0</td>\n",
       "      <td>NaN</td>\n",
       "      <td>0</td>\n",
       "      <td>512</td>\n",
       "    </tr>\n",
       "    <tr>\n",
       "      <th>18</th>\n",
       "      <td>vicalvaro</td>\n",
       "      <td>19</td>\n",
       "      <td>31398</td>\n",
       "      <td>12353.0</td>\n",
       "      <td>2.749543</td>\n",
       "      <td>72126.0</td>\n",
       "      <td>NaN</td>\n",
       "      <td>1</td>\n",
       "      <td>0</td>\n",
       "    </tr>\n",
       "    <tr>\n",
       "      <th>19</th>\n",
       "      <td>san blas-canillejas</td>\n",
       "      <td>20</td>\n",
       "      <td>59967</td>\n",
       "      <td>14100.0</td>\n",
       "      <td>2.640677</td>\n",
       "      <td>158166.0</td>\n",
       "      <td>1.0</td>\n",
       "      <td>0</td>\n",
       "      <td>3568</td>\n",
       "    </tr>\n",
       "    <tr>\n",
       "      <th>20</th>\n",
       "      <td>barajas</td>\n",
       "      <td>21</td>\n",
       "      <td>11017</td>\n",
       "      <td>18514.0</td>\n",
       "      <td>2.680606</td>\n",
       "      <td>48972.0</td>\n",
       "      <td>NaN</td>\n",
       "      <td>1</td>\n",
       "      <td>2466</td>\n",
       "    </tr>\n",
       "  </tbody>\n",
       "</table>\n",
       "</div>"
      ],
      "text/plain": [
       "           district_name  district_id  yearly_waste  avg_income_person  \\\n",
       "0                 centro            1         85006            17932.0   \n",
       "1             arganzuela            2         42970            18473.0   \n",
       "2                 retiro            3         36880            22706.0   \n",
       "3              salamanca            4         53533            26255.0   \n",
       "4              chamartin            5         48791            28190.0   \n",
       "5                 tetuan            6         52020            15742.0   \n",
       "6               chamberi            7         46282            24112.0   \n",
       "7             fuencarral            8         78917            19551.0   \n",
       "8      moncloa - aravaca            9         56453            24686.0   \n",
       "9                 latina           10         67966            12749.0   \n",
       "10           carabanchel           11         75869            11327.0   \n",
       "11                 usera           12         39828             9860.0   \n",
       "12    puente de vallecas           13         71059            10045.0   \n",
       "13             moratalaz           14         24221            14637.0   \n",
       "14         ciudad lineal           15         62649            15815.0   \n",
       "15             hortaleza           16         58331            19759.0   \n",
       "16            villaverde           17         46112            10164.0   \n",
       "17     villa de vallecas           18         30143            12545.0   \n",
       "18             vicalvaro           19         31398            12353.0   \n",
       "19   san blas-canillejas           20         59967            14100.0   \n",
       "20               barajas           21         11017            18514.0   \n",
       "\n",
       "    avg_household_residents  residents  university_centers  aparthotel  \\\n",
       "0                  2.004294   134881.0                10.0           1   \n",
       "1                  2.366433   153830.0                 1.0           0   \n",
       "2                  2.452674   119379.0                 1.0           0   \n",
       "3                  2.321615   146148.0                 3.0           2   \n",
       "4                  2.504550   145865.0                 7.0           2   \n",
       "5                  2.377567   157937.0                 NaN           1   \n",
       "6                  2.248690   139448.0                19.0           0   \n",
       "7                  2.718614   246021.0                17.0           0   \n",
       "8                  2.616057   119423.0                63.0           0   \n",
       "9                  2.501171   238154.0                 1.0           0   \n",
       "10                 2.644649   253040.0                 1.0           0   \n",
       "11                 2.802350   139501.0                 NaN           0   \n",
       "12                 2.653818   234770.0                 1.0           0   \n",
       "13                 2.519749    94609.0                 4.0           0   \n",
       "14                 2.495673   216270.0                 NaN           2   \n",
       "15                 2.685730   188267.0                 NaN           0   \n",
       "16                 2.791574   148883.0                 NaN           2   \n",
       "17                 2.614674   110436.0                 NaN           0   \n",
       "18                 2.749543    72126.0                 NaN           1   \n",
       "19                 2.640677   158166.0                 1.0           0   \n",
       "20                 2.680606    48972.0                 NaN           1   \n",
       "\n",
       "    hotel_rooms  \n",
       "0         19962  \n",
       "1          1576  \n",
       "2          1450  \n",
       "3          4709  \n",
       "4          2664  \n",
       "5          2328  \n",
       "6          3091  \n",
       "7          1482  \n",
       "8          1904  \n",
       "9            38  \n",
       "10          569  \n",
       "11           62  \n",
       "12          108  \n",
       "13            0  \n",
       "14         1359  \n",
       "15          821  \n",
       "16          250  \n",
       "17          512  \n",
       "18            0  \n",
       "19         3568  \n",
       "20         2466  "
      ]
     },
     "execution_count": 519,
     "metadata": {},
     "output_type": "execute_result"
    }
   ],
   "source": [
    "query1 = '''SELECT c.district_name, c.district_id, c.yearly_waste,\n",
    "c.avg_income_person, c.avg_household_residents, c.residents,\n",
    "u.university_centers, t.aparthotel, t.hotel_rooms \n",
    "FROM cleanedwaste_round2 as c\n",
    "LEFT JOIN universities_district u\n",
    "USING (district_id)\n",
    "LEFT JOIN turism_districts t\n",
    "USING (district_id)\n",
    "ORDER BY district_id;'''\n",
    "\n",
    "df = pd.read_sql_query(query1, engine)\n",
    "df.head(22)\n",
    "\n"
   ]
  },
  {
   "cell_type": "markdown",
   "id": "8ca59ec8",
   "metadata": {},
   "source": [
    "with this data we are going to drop barajas for the fact of the airport and we are goign to perform a linear regression model"
   ]
  },
  {
   "cell_type": "code",
   "execution_count": 520,
   "id": "d0d27a8d",
   "metadata": {},
   "outputs": [],
   "source": [
    "df['university_centers'] = df['university_centers'].fillna(0)"
   ]
  },
  {
   "cell_type": "code",
   "execution_count": 521,
   "id": "91e20be0",
   "metadata": {},
   "outputs": [],
   "source": [
    "df = df.drop(['district_name', 'district_id'], axis=1)"
   ]
  },
  {
   "cell_type": "code",
   "execution_count": 522,
   "id": "5af2eb86",
   "metadata": {},
   "outputs": [
    {
     "data": {
      "text/html": [
       "<div>\n",
       "<style scoped>\n",
       "    .dataframe tbody tr th:only-of-type {\n",
       "        vertical-align: middle;\n",
       "    }\n",
       "\n",
       "    .dataframe tbody tr th {\n",
       "        vertical-align: top;\n",
       "    }\n",
       "\n",
       "    .dataframe thead th {\n",
       "        text-align: right;\n",
       "    }\n",
       "</style>\n",
       "<table border=\"1\" class=\"dataframe\">\n",
       "  <thead>\n",
       "    <tr style=\"text-align: right;\">\n",
       "      <th></th>\n",
       "      <th>yearly_waste</th>\n",
       "      <th>avg_income_person</th>\n",
       "      <th>avg_household_residents</th>\n",
       "      <th>residents</th>\n",
       "      <th>university_centers</th>\n",
       "      <th>aparthotel</th>\n",
       "      <th>hotel_rooms</th>\n",
       "    </tr>\n",
       "  </thead>\n",
       "  <tbody>\n",
       "    <tr>\n",
       "      <th>yearly_waste</th>\n",
       "      <td>1.000000</td>\n",
       "      <td>-0.026999</td>\n",
       "      <td>-0.250388</td>\n",
       "      <td>0.813706</td>\n",
       "      <td>0.177945</td>\n",
       "      <td>-0.049665</td>\n",
       "      <td>0.393599</td>\n",
       "    </tr>\n",
       "    <tr>\n",
       "      <th>avg_income_person</th>\n",
       "      <td>-0.026999</td>\n",
       "      <td>1.000000</td>\n",
       "      <td>-0.460369</td>\n",
       "      <td>-0.206315</td>\n",
       "      <td>0.467285</td>\n",
       "      <td>0.219790</td>\n",
       "      <td>0.251475</td>\n",
       "    </tr>\n",
       "    <tr>\n",
       "      <th>avg_household_residents</th>\n",
       "      <td>-0.250388</td>\n",
       "      <td>-0.460369</td>\n",
       "      <td>1.000000</td>\n",
       "      <td>0.056115</td>\n",
       "      <td>-0.077490</td>\n",
       "      <td>-0.146554</td>\n",
       "      <td>-0.728479</td>\n",
       "    </tr>\n",
       "    <tr>\n",
       "      <th>residents</th>\n",
       "      <td>0.813706</td>\n",
       "      <td>-0.206315</td>\n",
       "      <td>0.056115</td>\n",
       "      <td>1.000000</td>\n",
       "      <td>-0.085557</td>\n",
       "      <td>-0.151283</td>\n",
       "      <td>-0.129231</td>\n",
       "    </tr>\n",
       "    <tr>\n",
       "      <th>university_centers</th>\n",
       "      <td>0.177945</td>\n",
       "      <td>0.467285</td>\n",
       "      <td>-0.077490</td>\n",
       "      <td>-0.085557</td>\n",
       "      <td>1.000000</td>\n",
       "      <td>-0.190499</td>\n",
       "      <td>0.118938</td>\n",
       "    </tr>\n",
       "    <tr>\n",
       "      <th>aparthotel</th>\n",
       "      <td>-0.049665</td>\n",
       "      <td>0.219790</td>\n",
       "      <td>-0.146554</td>\n",
       "      <td>-0.151283</td>\n",
       "      <td>-0.190499</td>\n",
       "      <td>1.000000</td>\n",
       "      <td>0.214322</td>\n",
       "    </tr>\n",
       "    <tr>\n",
       "      <th>hotel_rooms</th>\n",
       "      <td>0.393599</td>\n",
       "      <td>0.251475</td>\n",
       "      <td>-0.728479</td>\n",
       "      <td>-0.129231</td>\n",
       "      <td>0.118938</td>\n",
       "      <td>0.214322</td>\n",
       "      <td>1.000000</td>\n",
       "    </tr>\n",
       "  </tbody>\n",
       "</table>\n",
       "</div>"
      ],
      "text/plain": [
       "                         yearly_waste  avg_income_person  \\\n",
       "yearly_waste                 1.000000          -0.026999   \n",
       "avg_income_person           -0.026999           1.000000   \n",
       "avg_household_residents     -0.250388          -0.460369   \n",
       "residents                    0.813706          -0.206315   \n",
       "university_centers           0.177945           0.467285   \n",
       "aparthotel                  -0.049665           0.219790   \n",
       "hotel_rooms                  0.393599           0.251475   \n",
       "\n",
       "                         avg_household_residents  residents  \\\n",
       "yearly_waste                           -0.250388   0.813706   \n",
       "avg_income_person                      -0.460369  -0.206315   \n",
       "avg_household_residents                 1.000000   0.056115   \n",
       "residents                               0.056115   1.000000   \n",
       "university_centers                     -0.077490  -0.085557   \n",
       "aparthotel                             -0.146554  -0.151283   \n",
       "hotel_rooms                            -0.728479  -0.129231   \n",
       "\n",
       "                         university_centers  aparthotel  hotel_rooms  \n",
       "yearly_waste                       0.177945   -0.049665     0.393599  \n",
       "avg_income_person                  0.467285    0.219790     0.251475  \n",
       "avg_household_residents           -0.077490   -0.146554    -0.728479  \n",
       "residents                         -0.085557   -0.151283    -0.129231  \n",
       "university_centers                 1.000000   -0.190499     0.118938  \n",
       "aparthotel                        -0.190499    1.000000     0.214322  \n",
       "hotel_rooms                        0.118938    0.214322     1.000000  "
      ]
     },
     "execution_count": 522,
     "metadata": {},
     "output_type": "execute_result"
    }
   ],
   "source": [
    "correlations_matrix = df.corr()\n",
    "correlations_matrix"
   ]
  },
  {
   "cell_type": "code",
   "execution_count": 523,
   "id": "484ed43f",
   "metadata": {},
   "outputs": [],
   "source": [
    "df = df.drop(['avg_household_residents'], axis=1)"
   ]
  },
  {
   "cell_type": "code",
   "execution_count": 524,
   "id": "1cb9860d",
   "metadata": {},
   "outputs": [],
   "source": [
    "y = df['yearly_waste']\n",
    "X = df.drop('yearly_waste', axis=1)\n",
    "from sklearn.model_selection import train_test_split\n",
    "X_train, X_test, y_train, y_test = train_test_split(X, y, test_size=0.5, random_state= 100)"
   ]
  },
  {
   "cell_type": "code",
   "execution_count": 525,
   "id": "49113195",
   "metadata": {},
   "outputs": [],
   "source": [
    "from sklearn.preprocessing import MinMaxScaler\n",
    "transformer = MinMaxScaler().fit(X_train) # need to keep transformer\n",
    "X_train_normalized = transformer.transform(X_train)\n",
    "X_train_norm = pd.DataFrame(X_train_normalized)\n",
    "X_train_norm.columns = X_train.columns"
   ]
  },
  {
   "cell_type": "code",
   "execution_count": 526,
   "id": "c5f065b4",
   "metadata": {},
   "outputs": [
    {
     "data": {
      "text/html": [
       "<div>\n",
       "<style scoped>\n",
       "    .dataframe tbody tr th:only-of-type {\n",
       "        vertical-align: middle;\n",
       "    }\n",
       "\n",
       "    .dataframe tbody tr th {\n",
       "        vertical-align: top;\n",
       "    }\n",
       "\n",
       "    .dataframe thead th {\n",
       "        text-align: right;\n",
       "    }\n",
       "</style>\n",
       "<table border=\"1\" class=\"dataframe\">\n",
       "  <thead>\n",
       "    <tr style=\"text-align: right;\">\n",
       "      <th></th>\n",
       "      <th>avg_income_person</th>\n",
       "      <th>residents</th>\n",
       "      <th>university_centers</th>\n",
       "      <th>aparthotel</th>\n",
       "      <th>hotel_rooms</th>\n",
       "    </tr>\n",
       "  </thead>\n",
       "  <tbody>\n",
       "    <tr>\n",
       "      <th>0</th>\n",
       "      <td>0.309442</td>\n",
       "      <td>0.288476</td>\n",
       "      <td>0.000000</td>\n",
       "      <td>0.5</td>\n",
       "      <td>0.466024</td>\n",
       "    </tr>\n",
       "    <tr>\n",
       "      <th>1</th>\n",
       "      <td>0.695773</td>\n",
       "      <td>0.000000</td>\n",
       "      <td>0.015873</td>\n",
       "      <td>0.0</td>\n",
       "      <td>0.269119</td>\n",
       "    </tr>\n",
       "    <tr>\n",
       "      <th>2</th>\n",
       "      <td>1.000000</td>\n",
       "      <td>0.198158</td>\n",
       "      <td>0.111111</td>\n",
       "      <td>1.0</td>\n",
       "      <td>0.541377</td>\n",
       "    </tr>\n",
       "    <tr>\n",
       "      <th>3</th>\n",
       "      <td>0.313492</td>\n",
       "      <td>0.724901</td>\n",
       "      <td>0.000000</td>\n",
       "      <td>1.0</td>\n",
       "      <td>0.248710</td>\n",
       "    </tr>\n",
       "    <tr>\n",
       "      <th>4</th>\n",
       "      <td>0.064518</td>\n",
       "      <td>1.000000</td>\n",
       "      <td>0.015873</td>\n",
       "      <td>0.0</td>\n",
       "      <td>0.071541</td>\n",
       "    </tr>\n",
       "    <tr>\n",
       "      <th>5</th>\n",
       "      <td>0.000000</td>\n",
       "      <td>0.220738</td>\n",
       "      <td>0.000000</td>\n",
       "      <td>1.0</td>\n",
       "      <td>0.000000</td>\n",
       "    </tr>\n",
       "    <tr>\n",
       "      <th>6</th>\n",
       "      <td>0.532287</td>\n",
       "      <td>0.515393</td>\n",
       "      <td>0.000000</td>\n",
       "      <td>0.0</td>\n",
       "      <td>0.128056</td>\n",
       "    </tr>\n",
       "    <tr>\n",
       "      <th>7</th>\n",
       "      <td>0.520748</td>\n",
       "      <td>0.947487</td>\n",
       "      <td>0.269841</td>\n",
       "      <td>0.0</td>\n",
       "      <td>0.276295</td>\n",
       "    </tr>\n",
       "    <tr>\n",
       "      <th>8</th>\n",
       "      <td>0.892655</td>\n",
       "      <td>0.200275</td>\n",
       "      <td>0.047619</td>\n",
       "      <td>1.0</td>\n",
       "      <td>1.000000</td>\n",
       "    </tr>\n",
       "    <tr>\n",
       "      <th>9</th>\n",
       "      <td>0.805614</td>\n",
       "      <td>0.000329</td>\n",
       "      <td>1.000000</td>\n",
       "      <td>0.0</td>\n",
       "      <td>0.370935</td>\n",
       "    </tr>\n",
       "  </tbody>\n",
       "</table>\n",
       "</div>"
      ],
      "text/plain": [
       "   avg_income_person  residents  university_centers  aparthotel  hotel_rooms\n",
       "0           0.309442   0.288476            0.000000         0.5     0.466024\n",
       "1           0.695773   0.000000            0.015873         0.0     0.269119\n",
       "2           1.000000   0.198158            0.111111         1.0     0.541377\n",
       "3           0.313492   0.724901            0.000000         1.0     0.248710\n",
       "4           0.064518   1.000000            0.015873         0.0     0.071541\n",
       "5           0.000000   0.220738            0.000000         1.0     0.000000\n",
       "6           0.532287   0.515393            0.000000         0.0     0.128056\n",
       "7           0.520748   0.947487            0.269841         0.0     0.276295\n",
       "8           0.892655   0.200275            0.047619         1.0     1.000000\n",
       "9           0.805614   0.000329            1.000000         0.0     0.370935"
      ]
     },
     "execution_count": 526,
     "metadata": {},
     "output_type": "execute_result"
    }
   ],
   "source": [
    "X_train_norm.head(20)"
   ]
  },
  {
   "cell_type": "code",
   "execution_count": 527,
   "id": "da0626a5",
   "metadata": {},
   "outputs": [
    {
     "data": {
      "text/plain": [
       "LinearRegression()"
      ]
     },
     "execution_count": 527,
     "metadata": {},
     "output_type": "execute_result"
    }
   ],
   "source": [
    "from sklearn import linear_model\n",
    "lm = linear_model.LinearRegression()\n",
    "lm.fit(X_train_norm,y_train)"
   ]
  },
  {
   "cell_type": "code",
   "execution_count": 528,
   "id": "3a219b30",
   "metadata": {},
   "outputs": [],
   "source": [
    "X_test_normalized = transformer.transform(X_test)\n",
    "X_test_norm = pd.DataFrame(X_test_normalized)\n",
    "X_test_norm.columns = X_test.columns"
   ]
  },
  {
   "cell_type": "code",
   "execution_count": 529,
   "id": "b728ea5f",
   "metadata": {},
   "outputs": [
    {
     "data": {
      "text/plain": [
       "0.9088822430830805"
      ]
     },
     "execution_count": 529,
     "metadata": {},
     "output_type": "execute_result"
    }
   ],
   "source": [
    "from sklearn.metrics import r2_score\n",
    "predictions = lm.predict(X_test_norm)\n",
    "r2_score(y_test, predictions)"
   ]
  },
  {
   "cell_type": "code",
   "execution_count": 530,
   "id": "a28254d2",
   "metadata": {},
   "outputs": [
    {
     "data": {
      "text/plain": [
       "18    31398\n",
       "20    11017\n",
       "11    39828\n",
       "19    59967\n",
       "13    24221\n",
       "6     46282\n",
       "0     85006\n",
       "1     42970\n",
       "9     67966\n",
       "17    30143\n",
       "12    71059\n",
       "Name: yearly_waste, dtype: int64"
      ]
     },
     "execution_count": 530,
     "metadata": {},
     "output_type": "execute_result"
    }
   ],
   "source": [
    "y_test"
   ]
  },
  {
   "cell_type": "code",
   "execution_count": 531,
   "id": "a86d2900",
   "metadata": {},
   "outputs": [
    {
     "data": {
      "text/plain": [
       "array([23409.3122507 , 22061.30395733, 43335.28247572, 56855.79548607,\n",
       "       30888.26407689, 53190.98074206, 93767.81104192, 49538.18024517,\n",
       "       69975.24130072, 35925.00470979, 69830.45576255])"
      ]
     },
     "execution_count": 531,
     "metadata": {},
     "output_type": "execute_result"
    }
   ],
   "source": [
    "predictions"
   ]
  },
  {
   "cell_type": "code",
   "execution_count": 532,
   "id": "5361d030",
   "metadata": {},
   "outputs": [
    {
     "data": {
      "text/plain": [
       "18    31398\n",
       "20    11017\n",
       "11    39828\n",
       "19    59967\n",
       "13    24221\n",
       "6     46282\n",
       "0     85006\n",
       "1     42970\n",
       "9     67966\n",
       "17    30143\n",
       "12    71059\n",
       "Name: yearly_waste, dtype: int64"
      ]
     },
     "execution_count": 532,
     "metadata": {},
     "output_type": "execute_result"
    }
   ],
   "source": [
    "y_test"
   ]
  },
  {
   "cell_type": "markdown",
   "id": "19a62179",
   "metadata": {},
   "source": [
    "# General Curious Data"
   ]
  },
  {
   "cell_type": "markdown",
   "id": "31d0229c",
   "metadata": {},
   "source": [
    "# Data Related with Covid"
   ]
  },
  {
   "cell_type": "markdown",
   "id": "d36bd412",
   "metadata": {},
   "source": [
    "The lockdown in Spain was from the 8th of March to the 21 of June. We are going to analyse the influence to the creation of waste"
   ]
  },
  {
   "cell_type": "code",
   "execution_count": 533,
   "id": "2d624b89",
   "metadata": {},
   "outputs": [],
   "source": [
    "df_waste19 = pd.read_excel(\"Modelo_Residuos_2019.xlsx\", engine=\"openpyxl\", sheet_name = \"Hoja1\")\n",
    "df_waste20 = pd.read_excel(\"Modelo_Residuos_2020.xlsx\", engine=\"openpyxl\", sheet_name = \"Hoja1\")"
   ]
  },
  {
   "cell_type": "code",
   "execution_count": 534,
   "id": "4b12fda2",
   "metadata": {},
   "outputs": [],
   "source": [
    "df_waste19['waste19_months_covid'] = df_waste19.iloc[:,5:9].sum(axis=1)"
   ]
  },
  {
   "cell_type": "code",
   "execution_count": 535,
   "id": "077e8eaa",
   "metadata": {},
   "outputs": [
    {
     "data": {
      "text/html": [
       "<div>\n",
       "<style scoped>\n",
       "    .dataframe tbody tr th:only-of-type {\n",
       "        vertical-align: middle;\n",
       "    }\n",
       "\n",
       "    .dataframe tbody tr th {\n",
       "        vertical-align: top;\n",
       "    }\n",
       "\n",
       "    .dataframe thead th {\n",
       "        text-align: right;\n",
       "    }\n",
       "</style>\n",
       "<table border=\"1\" class=\"dataframe\">\n",
       "  <thead>\n",
       "    <tr style=\"text-align: right;\">\n",
       "      <th></th>\n",
       "      <th>district</th>\n",
       "      <th>waste_type</th>\n",
       "      <th>waste19_months_covid</th>\n",
       "    </tr>\n",
       "  </thead>\n",
       "  <tbody>\n",
       "    <tr>\n",
       "      <th>0</th>\n",
       "      <td>01. CENTRO</td>\n",
       "      <td>RESTO</td>\n",
       "      <td>24887.42</td>\n",
       "    </tr>\n",
       "    <tr>\n",
       "      <th>1</th>\n",
       "      <td>01. CENTRO</td>\n",
       "      <td>ENVASES</td>\n",
       "      <td>873.48</td>\n",
       "    </tr>\n",
       "    <tr>\n",
       "      <th>2</th>\n",
       "      <td>01. CENTRO</td>\n",
       "      <td>VIDRIO</td>\n",
       "      <td>2776.30</td>\n",
       "    </tr>\n",
       "    <tr>\n",
       "      <th>3</th>\n",
       "      <td>01. CENTRO</td>\n",
       "      <td>CLINICOS</td>\n",
       "      <td>670.44</td>\n",
       "    </tr>\n",
       "    <tr>\n",
       "      <th>4</th>\n",
       "      <td>01. CENTRO</td>\n",
       "      <td>ORGÁNICA</td>\n",
       "      <td>0.00</td>\n",
       "    </tr>\n",
       "  </tbody>\n",
       "</table>\n",
       "</div>"
      ],
      "text/plain": [
       "     district waste_type  waste19_months_covid\n",
       "0  01. CENTRO      RESTO              24887.42\n",
       "1  01. CENTRO    ENVASES                873.48\n",
       "2  01. CENTRO     VIDRIO               2776.30\n",
       "3  01. CENTRO   CLINICOS                670.44\n",
       "4  01. CENTRO   ORGÁNICA                  0.00"
      ]
     },
     "execution_count": 535,
     "metadata": {},
     "output_type": "execute_result"
    }
   ],
   "source": [
    "df_waste19 = df_waste19[['DISTRITO', 'FRACCIÓN', 'waste19_months_covid']]\n",
    "df_waste19 = df_waste19.rename(columns={'DISTRITO':'district', 'FRACCIÓN':'waste_type'})\n",
    "df_waste19.head()"
   ]
  },
  {
   "cell_type": "code",
   "execution_count": 536,
   "id": "1eda27d2",
   "metadata": {},
   "outputs": [],
   "source": [
    "df_waste19[['district_id', 'district_name']] = df_waste19['district'].str.split('.', expand=True)"
   ]
  },
  {
   "cell_type": "code",
   "execution_count": 537,
   "id": "533325fa",
   "metadata": {},
   "outputs": [],
   "source": [
    "df_waste19 = df_waste19.drop(['district'], axis= 1)"
   ]
  },
  {
   "cell_type": "code",
   "execution_count": 538,
   "id": "c7add4eb",
   "metadata": {},
   "outputs": [],
   "source": [
    "df_waste19 = df_waste19[['district_id', 'district_name', 'waste_type', 'waste19_months_covid']]"
   ]
  },
  {
   "cell_type": "code",
   "execution_count": 539,
   "id": "3b554f4a",
   "metadata": {},
   "outputs": [],
   "source": [
    "df_waste19 = items_lower(df_waste19)\n",
    "df_waste19 = accent_replace(df_waste19)"
   ]
  },
  {
   "cell_type": "code",
   "execution_count": 540,
   "id": "3dc0057b",
   "metadata": {},
   "outputs": [],
   "source": [
    "df_waste19['district_id'] = list(map(lambda x: int(x), df_waste19['district_id']))"
   ]
  },
  {
   "cell_type": "code",
   "execution_count": 541,
   "id": "1262593f",
   "metadata": {},
   "outputs": [
    {
     "data": {
      "text/html": [
       "<div>\n",
       "<style scoped>\n",
       "    .dataframe tbody tr th:only-of-type {\n",
       "        vertical-align: middle;\n",
       "    }\n",
       "\n",
       "    .dataframe tbody tr th {\n",
       "        vertical-align: top;\n",
       "    }\n",
       "\n",
       "    .dataframe thead th {\n",
       "        text-align: right;\n",
       "    }\n",
       "</style>\n",
       "<table border=\"1\" class=\"dataframe\">\n",
       "  <thead>\n",
       "    <tr style=\"text-align: right;\">\n",
       "      <th></th>\n",
       "      <th>district_id</th>\n",
       "      <th>district_name</th>\n",
       "      <th>waste_type</th>\n",
       "      <th>waste19_months_covid</th>\n",
       "    </tr>\n",
       "  </thead>\n",
       "  <tbody>\n",
       "    <tr>\n",
       "      <th>0</th>\n",
       "      <td>1</td>\n",
       "      <td>centro</td>\n",
       "      <td>resto</td>\n",
       "      <td>24887.42</td>\n",
       "    </tr>\n",
       "    <tr>\n",
       "      <th>1</th>\n",
       "      <td>1</td>\n",
       "      <td>centro</td>\n",
       "      <td>envases</td>\n",
       "      <td>873.48</td>\n",
       "    </tr>\n",
       "    <tr>\n",
       "      <th>2</th>\n",
       "      <td>1</td>\n",
       "      <td>centro</td>\n",
       "      <td>vidrio</td>\n",
       "      <td>2776.30</td>\n",
       "    </tr>\n",
       "    <tr>\n",
       "      <th>3</th>\n",
       "      <td>1</td>\n",
       "      <td>centro</td>\n",
       "      <td>clinicos</td>\n",
       "      <td>670.44</td>\n",
       "    </tr>\n",
       "    <tr>\n",
       "      <th>4</th>\n",
       "      <td>1</td>\n",
       "      <td>centro</td>\n",
       "      <td>organica</td>\n",
       "      <td>0.00</td>\n",
       "    </tr>\n",
       "    <tr>\n",
       "      <th>...</th>\n",
       "      <td>...</td>\n",
       "      <td>...</td>\n",
       "      <td>...</td>\n",
       "      <td>...</td>\n",
       "    </tr>\n",
       "    <tr>\n",
       "      <th>101</th>\n",
       "      <td>21</td>\n",
       "      <td>barajas</td>\n",
       "      <td>resto</td>\n",
       "      <td>5917.82</td>\n",
       "    </tr>\n",
       "    <tr>\n",
       "      <th>102</th>\n",
       "      <td>21</td>\n",
       "      <td>barajas</td>\n",
       "      <td>envases</td>\n",
       "      <td>652.08</td>\n",
       "    </tr>\n",
       "    <tr>\n",
       "      <th>103</th>\n",
       "      <td>21</td>\n",
       "      <td>barajas</td>\n",
       "      <td>vidrio</td>\n",
       "      <td>517.98</td>\n",
       "    </tr>\n",
       "    <tr>\n",
       "      <th>104</th>\n",
       "      <td>21</td>\n",
       "      <td>barajas</td>\n",
       "      <td>puntos limpios</td>\n",
       "      <td>101.40</td>\n",
       "    </tr>\n",
       "    <tr>\n",
       "      <th>105</th>\n",
       "      <td>21</td>\n",
       "      <td>barajas</td>\n",
       "      <td>organica</td>\n",
       "      <td>0.00</td>\n",
       "    </tr>\n",
       "  </tbody>\n",
       "</table>\n",
       "<p>106 rows × 4 columns</p>\n",
       "</div>"
      ],
      "text/plain": [
       "     district_id district_name      waste_type  waste19_months_covid\n",
       "0              1        centro           resto              24887.42\n",
       "1              1        centro         envases                873.48\n",
       "2              1        centro          vidrio               2776.30\n",
       "3              1        centro        clinicos                670.44\n",
       "4              1        centro        organica                  0.00\n",
       "..           ...           ...             ...                   ...\n",
       "101           21       barajas           resto               5917.82\n",
       "102           21       barajas         envases                652.08\n",
       "103           21       barajas          vidrio                517.98\n",
       "104           21       barajas  puntos limpios                101.40\n",
       "105           21       barajas        organica                  0.00\n",
       "\n",
       "[106 rows x 4 columns]"
      ]
     },
     "execution_count": 541,
     "metadata": {},
     "output_type": "execute_result"
    }
   ],
   "source": [
    "df_waste19"
   ]
  },
  {
   "cell_type": "code",
   "execution_count": 542,
   "id": "d070571f",
   "metadata": {},
   "outputs": [],
   "source": [
    "df_waste19 = df_waste19.groupby(['district_name']).agg({'district_id':np.mean, 'waste19_months_covid': sum}).reset_index()"
   ]
  },
  {
   "cell_type": "code",
   "execution_count": 543,
   "id": "ed042a10",
   "metadata": {},
   "outputs": [],
   "source": [
    "df_waste19['district_id'] = list(map(lambda x: int(x), df_waste19['district_id']))"
   ]
  },
  {
   "cell_type": "code",
   "execution_count": 544,
   "id": "d5260c10",
   "metadata": {},
   "outputs": [
    {
     "data": {
      "text/html": [
       "<div>\n",
       "<style scoped>\n",
       "    .dataframe tbody tr th:only-of-type {\n",
       "        vertical-align: middle;\n",
       "    }\n",
       "\n",
       "    .dataframe tbody tr th {\n",
       "        vertical-align: top;\n",
       "    }\n",
       "\n",
       "    .dataframe thead th {\n",
       "        text-align: right;\n",
       "    }\n",
       "</style>\n",
       "<table border=\"1\" class=\"dataframe\">\n",
       "  <thead>\n",
       "    <tr style=\"text-align: right;\">\n",
       "      <th></th>\n",
       "      <th>district_name</th>\n",
       "      <th>district_id</th>\n",
       "      <th>waste19_months_covid</th>\n",
       "    </tr>\n",
       "  </thead>\n",
       "  <tbody>\n",
       "    <tr>\n",
       "      <th>0</th>\n",
       "      <td>arganzuela</td>\n",
       "      <td>2</td>\n",
       "      <td>14867.26</td>\n",
       "    </tr>\n",
       "    <tr>\n",
       "      <th>1</th>\n",
       "      <td>barajas</td>\n",
       "      <td>21</td>\n",
       "      <td>7189.28</td>\n",
       "    </tr>\n",
       "    <tr>\n",
       "      <th>2</th>\n",
       "      <td>carabanchel</td>\n",
       "      <td>11</td>\n",
       "      <td>25837.26</td>\n",
       "    </tr>\n",
       "    <tr>\n",
       "      <th>3</th>\n",
       "      <td>centro</td>\n",
       "      <td>1</td>\n",
       "      <td>29207.64</td>\n",
       "    </tr>\n",
       "    <tr>\n",
       "      <th>4</th>\n",
       "      <td>chamartin</td>\n",
       "      <td>5</td>\n",
       "      <td>16908.24</td>\n",
       "    </tr>\n",
       "    <tr>\n",
       "      <th>5</th>\n",
       "      <td>chamberi</td>\n",
       "      <td>7</td>\n",
       "      <td>15905.28</td>\n",
       "    </tr>\n",
       "    <tr>\n",
       "      <th>6</th>\n",
       "      <td>ciudad lineal</td>\n",
       "      <td>15</td>\n",
       "      <td>21422.44</td>\n",
       "    </tr>\n",
       "    <tr>\n",
       "      <th>7</th>\n",
       "      <td>fuencarral</td>\n",
       "      <td>8</td>\n",
       "      <td>27028.22</td>\n",
       "    </tr>\n",
       "    <tr>\n",
       "      <th>8</th>\n",
       "      <td>hortaleza</td>\n",
       "      <td>16</td>\n",
       "      <td>19940.36</td>\n",
       "    </tr>\n",
       "    <tr>\n",
       "      <th>9</th>\n",
       "      <td>latina</td>\n",
       "      <td>10</td>\n",
       "      <td>23181.60</td>\n",
       "    </tr>\n",
       "    <tr>\n",
       "      <th>10</th>\n",
       "      <td>moncloa - aravaca</td>\n",
       "      <td>9</td>\n",
       "      <td>19861.70</td>\n",
       "    </tr>\n",
       "    <tr>\n",
       "      <th>11</th>\n",
       "      <td>moratalaz</td>\n",
       "      <td>14</td>\n",
       "      <td>8197.18</td>\n",
       "    </tr>\n",
       "    <tr>\n",
       "      <th>12</th>\n",
       "      <td>puente de vallecas</td>\n",
       "      <td>13</td>\n",
       "      <td>24027.82</td>\n",
       "    </tr>\n",
       "    <tr>\n",
       "      <th>13</th>\n",
       "      <td>retiro</td>\n",
       "      <td>3</td>\n",
       "      <td>12629.18</td>\n",
       "    </tr>\n",
       "    <tr>\n",
       "      <th>14</th>\n",
       "      <td>salamanca</td>\n",
       "      <td>4</td>\n",
       "      <td>18620.50</td>\n",
       "    </tr>\n",
       "    <tr>\n",
       "      <th>15</th>\n",
       "      <td>san blas-canillejas</td>\n",
       "      <td>20</td>\n",
       "      <td>20194.82</td>\n",
       "    </tr>\n",
       "    <tr>\n",
       "      <th>16</th>\n",
       "      <td>tetuan</td>\n",
       "      <td>6</td>\n",
       "      <td>17869.62</td>\n",
       "    </tr>\n",
       "    <tr>\n",
       "      <th>17</th>\n",
       "      <td>usera</td>\n",
       "      <td>12</td>\n",
       "      <td>13503.60</td>\n",
       "    </tr>\n",
       "    <tr>\n",
       "      <th>18</th>\n",
       "      <td>vicalvaro</td>\n",
       "      <td>19</td>\n",
       "      <td>10434.90</td>\n",
       "    </tr>\n",
       "    <tr>\n",
       "      <th>19</th>\n",
       "      <td>villa de vallecas</td>\n",
       "      <td>18</td>\n",
       "      <td>20162.56</td>\n",
       "    </tr>\n",
       "    <tr>\n",
       "      <th>20</th>\n",
       "      <td>villaverde</td>\n",
       "      <td>17</td>\n",
       "      <td>15562.70</td>\n",
       "    </tr>\n",
       "  </tbody>\n",
       "</table>\n",
       "</div>"
      ],
      "text/plain": [
       "           district_name  district_id  waste19_months_covid\n",
       "0             arganzuela            2              14867.26\n",
       "1                barajas           21               7189.28\n",
       "2            carabanchel           11              25837.26\n",
       "3                 centro            1              29207.64\n",
       "4              chamartin            5              16908.24\n",
       "5               chamberi            7              15905.28\n",
       "6          ciudad lineal           15              21422.44\n",
       "7             fuencarral            8              27028.22\n",
       "8              hortaleza           16              19940.36\n",
       "9                 latina           10              23181.60\n",
       "10     moncloa - aravaca            9              19861.70\n",
       "11             moratalaz           14               8197.18\n",
       "12    puente de vallecas           13              24027.82\n",
       "13                retiro            3              12629.18\n",
       "14             salamanca            4              18620.50\n",
       "15   san blas-canillejas           20              20194.82\n",
       "16                tetuan            6              17869.62\n",
       "17                 usera           12              13503.60\n",
       "18             vicalvaro           19              10434.90\n",
       "19     villa de vallecas           18              20162.56\n",
       "20            villaverde           17              15562.70"
      ]
     },
     "execution_count": 544,
     "metadata": {},
     "output_type": "execute_result"
    }
   ],
   "source": [
    "df_waste19"
   ]
  },
  {
   "cell_type": "markdown",
   "id": "fc584904",
   "metadata": {},
   "source": [
    "Do the same with the data in 2020, where lockdown happend"
   ]
  },
  {
   "cell_type": "code",
   "execution_count": 545,
   "id": "fcab8a52",
   "metadata": {},
   "outputs": [],
   "source": [
    "df_waste20['waste20_months_covid'] = df_waste20.iloc[:,5:9].sum(axis=1)"
   ]
  },
  {
   "cell_type": "code",
   "execution_count": 546,
   "id": "4fe3bb4e",
   "metadata": {},
   "outputs": [
    {
     "data": {
      "text/html": [
       "<div>\n",
       "<style scoped>\n",
       "    .dataframe tbody tr th:only-of-type {\n",
       "        vertical-align: middle;\n",
       "    }\n",
       "\n",
       "    .dataframe tbody tr th {\n",
       "        vertical-align: top;\n",
       "    }\n",
       "\n",
       "    .dataframe thead th {\n",
       "        text-align: right;\n",
       "    }\n",
       "</style>\n",
       "<table border=\"1\" class=\"dataframe\">\n",
       "  <thead>\n",
       "    <tr style=\"text-align: right;\">\n",
       "      <th></th>\n",
       "      <th>district</th>\n",
       "      <th>waste_type</th>\n",
       "      <th>waste20_months_covid</th>\n",
       "    </tr>\n",
       "  </thead>\n",
       "  <tbody>\n",
       "    <tr>\n",
       "      <th>0</th>\n",
       "      <td>01. CENTRO</td>\n",
       "      <td>RESTO</td>\n",
       "      <td>13118.18</td>\n",
       "    </tr>\n",
       "    <tr>\n",
       "      <th>1</th>\n",
       "      <td>01. CENTRO</td>\n",
       "      <td>ENVASES</td>\n",
       "      <td>813.80</td>\n",
       "    </tr>\n",
       "    <tr>\n",
       "      <th>2</th>\n",
       "      <td>01. CENTRO</td>\n",
       "      <td>VIDRIO</td>\n",
       "      <td>1446.04</td>\n",
       "    </tr>\n",
       "    <tr>\n",
       "      <th>3</th>\n",
       "      <td>01. CENTRO</td>\n",
       "      <td>CLINICOS</td>\n",
       "      <td>2014.94</td>\n",
       "    </tr>\n",
       "    <tr>\n",
       "      <th>4</th>\n",
       "      <td>01. CENTRO</td>\n",
       "      <td>ORGÁNICA</td>\n",
       "      <td>0.00</td>\n",
       "    </tr>\n",
       "  </tbody>\n",
       "</table>\n",
       "</div>"
      ],
      "text/plain": [
       "     district waste_type  waste20_months_covid\n",
       "0  01. CENTRO      RESTO              13118.18\n",
       "1  01. CENTRO    ENVASES                813.80\n",
       "2  01. CENTRO     VIDRIO               1446.04\n",
       "3  01. CENTRO   CLINICOS               2014.94\n",
       "4  01. CENTRO   ORGÁNICA                  0.00"
      ]
     },
     "execution_count": 546,
     "metadata": {},
     "output_type": "execute_result"
    }
   ],
   "source": [
    "df_waste20 = df_waste20[['DISTRITO', 'FRACCIÓN', 'waste20_months_covid']]\n",
    "df_waste20 = df_waste20.rename(columns={'DISTRITO':'district', 'FRACCIÓN':'waste_type'})\n",
    "df_waste20.head()"
   ]
  },
  {
   "cell_type": "code",
   "execution_count": 547,
   "id": "4d04e679",
   "metadata": {},
   "outputs": [],
   "source": [
    "df_waste20[['district_id', 'district_name']] = df_waste20['district'].str.split('.', expand=True)"
   ]
  },
  {
   "cell_type": "code",
   "execution_count": 548,
   "id": "c0f50df0",
   "metadata": {},
   "outputs": [],
   "source": [
    "df_waste20 = df_waste20.drop(['district'], axis= 1)"
   ]
  },
  {
   "cell_type": "code",
   "execution_count": 549,
   "id": "71eedfa3",
   "metadata": {},
   "outputs": [],
   "source": [
    "df_waste20 = df_waste20[['district_id', 'district_name', 'waste_type', 'waste20_months_covid']]"
   ]
  },
  {
   "cell_type": "code",
   "execution_count": 550,
   "id": "f77a9f31",
   "metadata": {},
   "outputs": [],
   "source": [
    "df_waste20 = items_lower(df_waste20)\n",
    "df_waste20 = accent_replace(df_waste20)"
   ]
  },
  {
   "cell_type": "code",
   "execution_count": 551,
   "id": "255de727",
   "metadata": {},
   "outputs": [],
   "source": [
    "df_waste20['district_id'] = list(map(lambda x: int(x), df_waste20['district_id']))"
   ]
  },
  {
   "cell_type": "code",
   "execution_count": 552,
   "id": "75d1266e",
   "metadata": {},
   "outputs": [],
   "source": [
    "df_waste20 = df_waste20.groupby(['district_name']).agg({'district_id':np.mean, 'waste20_months_covid': sum}).reset_index()"
   ]
  },
  {
   "cell_type": "code",
   "execution_count": 553,
   "id": "77c35f65",
   "metadata": {},
   "outputs": [],
   "source": [
    "df_waste20['district_id'] = list(map(lambda x: int(x), df_waste20['district_id']))"
   ]
  },
  {
   "cell_type": "code",
   "execution_count": 554,
   "id": "0ab67189",
   "metadata": {},
   "outputs": [],
   "source": [
    "df_waste20 = df_waste20.drop(['district_name', 'district_id'], axis=1)"
   ]
  },
  {
   "cell_type": "code",
   "execution_count": 555,
   "id": "55ce598e",
   "metadata": {},
   "outputs": [],
   "source": [
    "df_covid = pd.concat([df_waste19, df_waste20], axis=1)"
   ]
  },
  {
   "cell_type": "code",
   "execution_count": 556,
   "id": "2b3d9f54",
   "metadata": {},
   "outputs": [],
   "source": [
    "df_covid = df_covid.sort_values(by=['district_id'], ignore_index=True)"
   ]
  },
  {
   "cell_type": "code",
   "execution_count": 557,
   "id": "3df6c9e9",
   "metadata": {},
   "outputs": [
    {
     "data": {
      "text/html": [
       "<div>\n",
       "<style scoped>\n",
       "    .dataframe tbody tr th:only-of-type {\n",
       "        vertical-align: middle;\n",
       "    }\n",
       "\n",
       "    .dataframe tbody tr th {\n",
       "        vertical-align: top;\n",
       "    }\n",
       "\n",
       "    .dataframe thead th {\n",
       "        text-align: right;\n",
       "    }\n",
       "</style>\n",
       "<table border=\"1\" class=\"dataframe\">\n",
       "  <thead>\n",
       "    <tr style=\"text-align: right;\">\n",
       "      <th></th>\n",
       "      <th>district_name</th>\n",
       "      <th>district_id</th>\n",
       "      <th>waste19_months_covid</th>\n",
       "      <th>waste20_months_covid</th>\n",
       "    </tr>\n",
       "  </thead>\n",
       "  <tbody>\n",
       "    <tr>\n",
       "      <th>0</th>\n",
       "      <td>centro</td>\n",
       "      <td>1</td>\n",
       "      <td>29207.64</td>\n",
       "      <td>17392.96</td>\n",
       "    </tr>\n",
       "    <tr>\n",
       "      <th>1</th>\n",
       "      <td>arganzuela</td>\n",
       "      <td>2</td>\n",
       "      <td>14867.26</td>\n",
       "      <td>12551.10</td>\n",
       "    </tr>\n",
       "    <tr>\n",
       "      <th>2</th>\n",
       "      <td>retiro</td>\n",
       "      <td>3</td>\n",
       "      <td>12629.18</td>\n",
       "      <td>10785.22</td>\n",
       "    </tr>\n",
       "    <tr>\n",
       "      <th>3</th>\n",
       "      <td>salamanca</td>\n",
       "      <td>4</td>\n",
       "      <td>18620.50</td>\n",
       "      <td>13762.00</td>\n",
       "    </tr>\n",
       "    <tr>\n",
       "      <th>4</th>\n",
       "      <td>chamartin</td>\n",
       "      <td>5</td>\n",
       "      <td>16908.24</td>\n",
       "      <td>13398.38</td>\n",
       "    </tr>\n",
       "    <tr>\n",
       "      <th>5</th>\n",
       "      <td>tetuan</td>\n",
       "      <td>6</td>\n",
       "      <td>17869.62</td>\n",
       "      <td>14826.44</td>\n",
       "    </tr>\n",
       "    <tr>\n",
       "      <th>6</th>\n",
       "      <td>chamberi</td>\n",
       "      <td>7</td>\n",
       "      <td>15905.28</td>\n",
       "      <td>12412.62</td>\n",
       "    </tr>\n",
       "    <tr>\n",
       "      <th>7</th>\n",
       "      <td>fuencarral</td>\n",
       "      <td>8</td>\n",
       "      <td>27028.22</td>\n",
       "      <td>24684.84</td>\n",
       "    </tr>\n",
       "    <tr>\n",
       "      <th>8</th>\n",
       "      <td>moncloa - aravaca</td>\n",
       "      <td>9</td>\n",
       "      <td>19861.70</td>\n",
       "      <td>14905.38</td>\n",
       "    </tr>\n",
       "    <tr>\n",
       "      <th>9</th>\n",
       "      <td>latina</td>\n",
       "      <td>10</td>\n",
       "      <td>23181.60</td>\n",
       "      <td>22307.40</td>\n",
       "    </tr>\n",
       "    <tr>\n",
       "      <th>10</th>\n",
       "      <td>carabanchel</td>\n",
       "      <td>11</td>\n",
       "      <td>25837.26</td>\n",
       "      <td>26798.20</td>\n",
       "    </tr>\n",
       "    <tr>\n",
       "      <th>11</th>\n",
       "      <td>usera</td>\n",
       "      <td>12</td>\n",
       "      <td>13503.60</td>\n",
       "      <td>11629.24</td>\n",
       "    </tr>\n",
       "    <tr>\n",
       "      <th>12</th>\n",
       "      <td>puente de vallecas</td>\n",
       "      <td>13</td>\n",
       "      <td>24027.82</td>\n",
       "      <td>24578.74</td>\n",
       "    </tr>\n",
       "    <tr>\n",
       "      <th>13</th>\n",
       "      <td>moratalaz</td>\n",
       "      <td>14</td>\n",
       "      <td>8197.18</td>\n",
       "      <td>8589.76</td>\n",
       "    </tr>\n",
       "    <tr>\n",
       "      <th>14</th>\n",
       "      <td>ciudad lineal</td>\n",
       "      <td>15</td>\n",
       "      <td>21422.44</td>\n",
       "      <td>20510.72</td>\n",
       "    </tr>\n",
       "    <tr>\n",
       "      <th>15</th>\n",
       "      <td>hortaleza</td>\n",
       "      <td>16</td>\n",
       "      <td>19940.36</td>\n",
       "      <td>19113.12</td>\n",
       "    </tr>\n",
       "    <tr>\n",
       "      <th>16</th>\n",
       "      <td>villaverde</td>\n",
       "      <td>17</td>\n",
       "      <td>15562.70</td>\n",
       "      <td>14576.56</td>\n",
       "    </tr>\n",
       "    <tr>\n",
       "      <th>17</th>\n",
       "      <td>villa de vallecas</td>\n",
       "      <td>18</td>\n",
       "      <td>20162.56</td>\n",
       "      <td>22189.04</td>\n",
       "    </tr>\n",
       "    <tr>\n",
       "      <th>18</th>\n",
       "      <td>vicalvaro</td>\n",
       "      <td>19</td>\n",
       "      <td>10434.90</td>\n",
       "      <td>9124.28</td>\n",
       "    </tr>\n",
       "    <tr>\n",
       "      <th>19</th>\n",
       "      <td>san blas-canillejas</td>\n",
       "      <td>20</td>\n",
       "      <td>20194.82</td>\n",
       "      <td>15332.94</td>\n",
       "    </tr>\n",
       "    <tr>\n",
       "      <th>20</th>\n",
       "      <td>barajas</td>\n",
       "      <td>21</td>\n",
       "      <td>7189.28</td>\n",
       "      <td>5605.34</td>\n",
       "    </tr>\n",
       "  </tbody>\n",
       "</table>\n",
       "</div>"
      ],
      "text/plain": [
       "           district_name  district_id  waste19_months_covid  \\\n",
       "0                 centro            1              29207.64   \n",
       "1             arganzuela            2              14867.26   \n",
       "2                 retiro            3              12629.18   \n",
       "3              salamanca            4              18620.50   \n",
       "4              chamartin            5              16908.24   \n",
       "5                 tetuan            6              17869.62   \n",
       "6               chamberi            7              15905.28   \n",
       "7             fuencarral            8              27028.22   \n",
       "8      moncloa - aravaca            9              19861.70   \n",
       "9                 latina           10              23181.60   \n",
       "10           carabanchel           11              25837.26   \n",
       "11                 usera           12              13503.60   \n",
       "12    puente de vallecas           13              24027.82   \n",
       "13             moratalaz           14               8197.18   \n",
       "14         ciudad lineal           15              21422.44   \n",
       "15             hortaleza           16              19940.36   \n",
       "16            villaverde           17              15562.70   \n",
       "17     villa de vallecas           18              20162.56   \n",
       "18             vicalvaro           19              10434.90   \n",
       "19   san blas-canillejas           20              20194.82   \n",
       "20               barajas           21               7189.28   \n",
       "\n",
       "    waste20_months_covid  \n",
       "0               17392.96  \n",
       "1               12551.10  \n",
       "2               10785.22  \n",
       "3               13762.00  \n",
       "4               13398.38  \n",
       "5               14826.44  \n",
       "6               12412.62  \n",
       "7               24684.84  \n",
       "8               14905.38  \n",
       "9               22307.40  \n",
       "10              26798.20  \n",
       "11              11629.24  \n",
       "12              24578.74  \n",
       "13               8589.76  \n",
       "14              20510.72  \n",
       "15              19113.12  \n",
       "16              14576.56  \n",
       "17              22189.04  \n",
       "18               9124.28  \n",
       "19              15332.94  \n",
       "20               5605.34  "
      ]
     },
     "execution_count": 557,
     "metadata": {},
     "output_type": "execute_result"
    }
   ],
   "source": [
    "df_covid"
   ]
  },
  {
   "cell_type": "markdown",
   "id": "ee5a1761",
   "metadata": {},
   "source": [
    "Residents to calculate the covid impact"
   ]
  },
  {
   "cell_type": "code",
   "execution_count": 558,
   "id": "14e49397",
   "metadata": {},
   "outputs": [],
   "source": [
    "df_res19 = pd.read_excel(\"Población_19.xlsx\", engine=\"openpyxl\", sheet_name = \"MadridDatos 1.0\")\n",
    "df_res20 = pd.read_excel(\"Población_20.xlsx\", engine=\"openpyxl\", sheet_name = \"MadridDatos 1.0\")"
   ]
  },
  {
   "cell_type": "code",
   "execution_count": 559,
   "id": "1a9f13c0",
   "metadata": {},
   "outputs": [],
   "source": [
    "df_res19[['district_id1', 'district_name1']] = df_res19['Distrito'].str.split('.', expand=True)\n",
    "df_res20[['district_id2', 'district_name2']] = df_res20['Distrito'].str.split('.', expand=True)"
   ]
  },
  {
   "cell_type": "code",
   "execution_count": 560,
   "id": "258fea68",
   "metadata": {},
   "outputs": [],
   "source": [
    "df_res19 = df_res19.drop(['Distrito'], axis= 1)\n",
    "df_res20 = df_res20.drop(['Distrito'], axis= 1)\n",
    "df_res19 = df_res19.rename(columns={'Población':'residents19'})\n",
    "df_res20 = df_res20.rename(columns={'Población':'residents20'})"
   ]
  },
  {
   "cell_type": "code",
   "execution_count": 561,
   "id": "a0c899fb",
   "metadata": {},
   "outputs": [],
   "source": [
    "df_res19 = df_res19[['district_id1', 'district_name1', 'residents19']]\n",
    "df_res20 = df_res20[['district_id2', 'district_name2', 'residents20']]"
   ]
  },
  {
   "cell_type": "code",
   "execution_count": 562,
   "id": "3219d86a",
   "metadata": {},
   "outputs": [],
   "source": [
    "df_res19['district_id1'] = list(map(lambda x: int(x), df_res19['district_id1']))\n",
    "df_res20['district_id2'] = list(map(lambda x: int(x), df_res20['district_id2']))"
   ]
  },
  {
   "cell_type": "code",
   "execution_count": 563,
   "id": "21af33b5",
   "metadata": {},
   "outputs": [],
   "source": [
    "df_res19 = items_lower(df_res19)\n",
    "df_res20 = accent_replace(df_res20)"
   ]
  },
  {
   "cell_type": "markdown",
   "id": "308c98f7",
   "metadata": {},
   "source": [
    "Joining the tables"
   ]
  },
  {
   "cell_type": "code",
   "execution_count": 564,
   "id": "70e90097",
   "metadata": {},
   "outputs": [],
   "source": [
    "df_covid = pd.concat([df_covid, df_res19, df_res20], axis=1)"
   ]
  },
  {
   "cell_type": "code",
   "execution_count": 566,
   "id": "2f1902b8",
   "metadata": {},
   "outputs": [],
   "source": [
    "df_covid = df_covid.drop(['district_id1', 'district_id2', 'district_name1', 'district_name2'], axis=1)"
   ]
  },
  {
   "cell_type": "code",
   "execution_count": 568,
   "id": "19efa81e",
   "metadata": {},
   "outputs": [],
   "source": [
    "df_covid['residents_waste_lockdown19'] = df_covid['waste19_months_covid']/df_covid['residents19']\n",
    "df_covid['residents_waste_lockdown20']= df_covid['waste20_months_covid']/df_covid['residents20']"
   ]
  },
  {
   "cell_type": "code",
   "execution_count": 570,
   "id": "a0352cf7",
   "metadata": {},
   "outputs": [],
   "source": [
    "df_covid['%Var']= (df_covid['residents_waste_lockdown20']/df_covid['residents_waste_lockdown19']-1)*100"
   ]
  },
  {
   "cell_type": "code",
   "execution_count": 582,
   "id": "a3c367d4",
   "metadata": {},
   "outputs": [],
   "source": [
    "df_covid.to_csv('covid_data.csv', index = False)"
   ]
  },
  {
   "cell_type": "markdown",
   "id": "32b41e2d",
   "metadata": {},
   "source": [
    "# Insights"
   ]
  },
  {
   "cell_type": "markdown",
   "id": "9b17a69c",
   "metadata": {},
   "source": [
    "Mean Variation during covid lockdown"
   ]
  },
  {
   "cell_type": "code",
   "execution_count": 572,
   "id": "fe199ea8",
   "metadata": {},
   "outputs": [
    {
     "data": {
      "text/plain": [
       "-14.203363248209051"
      ]
     },
     "execution_count": 572,
     "metadata": {},
     "output_type": "execute_result"
    }
   ],
   "source": [
    "df_covid['%Var'].mean()"
   ]
  },
  {
   "cell_type": "code",
   "execution_count": 581,
   "id": "d57a3884",
   "metadata": {},
   "outputs": [
    {
     "name": "stdout",
     "output_type": "stream",
     "text": [
      "117.1271898267244\n",
      "100.48018280340538\n"
     ]
    }
   ],
   "source": [
    "print(df_covid['waste19_months_covid'].sum()/df_covid['residents19'].sum()*1000)\n",
    "print(df_covid['waste20_months_covid'].sum()/df_covid['residents20'].sum()*1000)\n"
   ]
  },
  {
   "cell_type": "code",
   "execution_count": null,
   "id": "c260f8cd",
   "metadata": {},
   "outputs": [],
   "source": []
  }
 ],
 "metadata": {
  "kernelspec": {
   "display_name": "Python 3 (ipykernel)",
   "language": "python",
   "name": "python3"
  },
  "language_info": {
   "codemirror_mode": {
    "name": "ipython",
    "version": 3
   },
   "file_extension": ".py",
   "mimetype": "text/x-python",
   "name": "python",
   "nbconvert_exporter": "python",
   "pygments_lexer": "ipython3",
   "version": "3.9.7"
  }
 },
 "nbformat": 4,
 "nbformat_minor": 5
}
